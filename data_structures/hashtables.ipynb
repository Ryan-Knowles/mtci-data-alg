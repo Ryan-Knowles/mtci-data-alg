{
 "cells": [
  {
   "cell_type": "markdown",
   "metadata": {},
   "source": [
    "# Hashtables\n",
    "- Key - Value pair\n",
    "- Key is used to retrieve the value\n",
    "- Key is unique\n",
    "- Value is not unique\n",
    "- Use a hash function to generate a hash value from the key\n",
    "\n",
    "\n",
    "## Big O notation\n",
    "- Lookup - O(1) worst case, O(n) average case from collisions\n",
    "- Insert - O(1) worst case, O(n) average case from collisions\n",
    "- Delete - O(1) worst case, O(n) average case from collisions\n",
    "- Search - O(1) worst case, O(n) average case from collisions\n",
    "- Sort - O(n log n)\n",
    "- Space - O(n)\n"
   ]
  },
  {
   "cell_type": "code",
   "execution_count": 43,
   "metadata": {},
   "outputs": [],
   "source": [
    "class HashTable:\n",
    "    def __init__(self, size):\n",
    "        self.size = size\n",
    "        self.table = [[] for _ in range(size)]\n",
    "\n",
    "    def _hash(self, key):\n",
    "        if not isinstance(key, str):\n",
    "            raise ValueError(\"Key must be a string\")\n",
    "\n",
    "        # Convert string to numeric value by summing ASCII values\n",
    "        hash_val = sum(ord(char) for char in key)\n",
    "        return hash_val % self.size\n",
    "    \n",
    "    def __setitem__(self, key, value):\n",
    "        hv = self._hash(key)\n",
    "        for i, (k, v) in enumerate(self.table[hv]):\n",
    "            if k == key:\n",
    "                self.table[hv][i] = (key, value)\n",
    "                return\n",
    "        self.table[hv].append((key, value))\n",
    "    \n",
    "    def __getitem__(self, key):\n",
    "        hv = self._hash(key)\n",
    "        for k, v in self.table[hv]:\n",
    "            if k == key:\n",
    "                return v\n",
    "            \n",
    "        raise ValueError(f\"key {key} not found!\")\n",
    "\n",
    "    def __len__(self):\n",
    "        count = 0\n",
    "        for i in self.table:\n",
    "            count += len(i)\n",
    "        return count\n",
    "\n",
    "    def __contains__(self, key):\n",
    "        try:\n",
    "            self[key]\n",
    "            return True\n",
    "        except ValueError:\n",
    "            return False\n",
    "\n",
    "    def keys(self):\n",
    "        keys = []\n",
    "        for i in self.table:\n",
    "            for k, v in i:\n",
    "                keys.append(k)\n",
    "        return keys\n",
    "    \n",
    "    "
   ]
  },
  {
   "cell_type": "code",
   "execution_count": 39,
   "metadata": {},
   "outputs": [
    {
     "name": "stdout",
     "output_type": "stream",
     "text": [
      "[('grapes', 10)]\n",
      "0\n",
      "grapes\n",
      "k + v ='gr'\n"
     ]
    }
   ],
   "source": [
    "t = [[(\"grapes\", 10)]]\n",
    "print(t[0])\n",
    "for i, (d, v) in enumerate(t[0]):\n",
    "    print(i)\n",
    "    print(d)\n",
    "    k = d[0]\n",
    "    v = d[1]\n",
    "    print(f\"{k + v =}\")"
   ]
  },
  {
   "cell_type": "code",
   "execution_count": 40,
   "metadata": {},
   "outputs": [
    {
     "name": "stdout",
     "output_type": "stream",
     "text": [
      "All tests passed!\n"
     ]
    }
   ],
   "source": [
    "# Tests\n",
    "# - Test creating a hashtable\n",
    "# - Test inserting key-value pairs\n",
    "# - Test retrieving values\n",
    "# - Test checking if key exists\n",
    "# - Test getting length\n",
    "# - Test error handling for non-string keys\n",
    "# - Test getting all keys\n",
    "\n",
    "ht = HashTable(10)\n",
    "\n",
    "# Test inserting and retrieving\n",
    "ht[\"apple\"] = 5 \n",
    "assert ht[\"apple\"] == 5\n",
    "\n",
    "ht[\"banana\"] = 8\n",
    "assert ht[\"banana\"] == 8\n",
    "\n",
    "# Test contains\n",
    "assert \"apple\" in ht\n",
    "assert \"orange\" not in ht\n",
    "\n",
    "# Test length\n",
    "assert len(ht) == 2\n",
    "\n",
    "# Test keys method\n",
    "ht[\"orange\"] = 7\n",
    "ht[\"grape\"] = 4\n",
    "keys = ht.keys()\n",
    "assert len(keys) == 4\n",
    "assert \"apple\" in keys\n",
    "assert \"banana\" in keys\n",
    "assert \"orange\" in keys\n",
    "assert \"grape\" in keys\n",
    "\n",
    "# Test error handling\n",
    "try:\n",
    "    ht[123] = \"invalid\"\n",
    "    assert False, \"Should have raised ValueError\"\n",
    "except ValueError:\n",
    "    pass\n",
    "\n",
    "print(\"All tests passed!\")\n"
   ]
  },
  {
   "cell_type": "code",
   "execution_count": 41,
   "metadata": {},
   "outputs": [
    {
     "name": "stdout",
     "output_type": "stream",
     "text": [
      "All tests passed!\n"
     ]
    }
   ],
   "source": [
    "# First recurrent characters\n",
    "def first_recurrent_character(s):\n",
    "    ht = HashTable(len(s))\n",
    "    for c in s:\n",
    "        if c in ht:\n",
    "            return c\n",
    "        ht[c] = True\n",
    "    return None\n",
    "\n",
    "# Test cases\n",
    "assert first_recurrent_character(\"abacabad\") == \"a\"\n",
    "assert first_recurrent_character(\"abbacaba\") == \"b\"\n",
    "assert first_recurrent_character(\"abcd\") == None\n",
    "\n",
    "# Google test cases\n",
    "t1 = [2, 5, 1, 2, 3, 5, 1, 2, 4]\n",
    "assert first_recurrent_character([str(x) for x in t1]) == \"2\"\n",
    "\n",
    "t2 = [2, 1, 1, 2, 3, 5, 1, 2, 4]\n",
    "assert first_recurrent_character([str(x) for x in t2]) == \"1\"\n",
    "\n",
    "t3 = [1, 2, 3, 4, 5, 6, 7, 8, 9, 10]\n",
    "assert first_recurrent_character([str(x) for x in t3]) == None\n",
    "\n",
    "\n",
    "\n",
    "print(\"All tests passed!\")\n"
   ]
  }
 ],
 "metadata": {
  "kernelspec": {
   "display_name": "mtci-data-alg-py3.12.2",
   "language": "python",
   "name": "python3"
  },
  "language_info": {
   "codemirror_mode": {
    "name": "ipython",
    "version": 3
   },
   "file_extension": ".py",
   "mimetype": "text/x-python",
   "name": "python",
   "nbconvert_exporter": "python",
   "pygments_lexer": "ipython3",
   "version": "3.12.2"
  }
 },
 "nbformat": 4,
 "nbformat_minor": 2
}
