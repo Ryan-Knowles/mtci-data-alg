{
 "cells": [
  {
   "cell_type": "markdown",
   "metadata": {},
   "source": [
    "# Roman Numeral [Easy]\n",
    "\n",
    "Roman numerals are represented by seven different symbols: I, V, X, L, C, D and M.\n",
    "\n",
    "| Symbol | Value |\n",
    "|--------|-------|\n",
    "| I      | 1     |\n",
    "| V      | 5     |\n",
    "| X      | 10    |\n",
    "| L      | 50    |\n",
    "| C      | 100   |\n",
    "| D      | 500   |\n",
    "| M      | 1000  |\n",
    "\n",
    "For example, 2 is written as II in Roman numeral, just two ones added together. 12 is written as XII, which is simply X + II. The number 27 is written as XXVII, which is XX + V + II.\n",
    "\n",
    "Roman numerals are usually written largest to smallest from left to right. However, the numeral for four is not IIII. Instead, the number four is written as IV. Because the one is before the five we subtract it making four. The same principle applies to the number nine, which is written as IX. There are six instances where subtraction is used:\n",
    "\n",
    "- I can be placed before V (5) and X (10) to make 4 and 9. \n",
    "- X can be placed before L (50) and C (100) to make 40 and 90. \n",
    "- C can be placed before D (500) and M (1000) to make 400 and 900.\n",
    "\n",
    "Given a roman numeral, convert it to an integer.\n",
    "\n",
    "### Examples:\n",
    "\n",
    "**Example 1:**\n",
    "\n",
    "```\n",
    "Input: s = \"III\"\n",
    "Output: 3\n",
    "Explanation: III = 3\n",
    "```\n",
    "\n",
    "**Example 2:**\n",
    "```\n",
    "Input: s = \"LVIII\"\n",
    "Output: 58\n",
    "Explanation: L = 50, V= 5, III = 3\n",
    "```\n",
    "\n",
    "**Example 3:**\n",
    "```\n",
    "Input: s = \"MCMXCIV\"\n",
    "Output: 1994\n",
    "Explanation: M = 1000, CM = 900, XC = 90 and IV = 4\n",
    "```"
   ]
  },
  {
   "cell_type": "markdown",
   "metadata": {},
   "source": [
    "\n",
    "### Constraints:\n",
    "- 1 <= s.length <= 15\n",
    "- s contains only the characters ('I', 'V', 'X', 'L', 'C', 'D', 'M').\n",
    "- It is guaranteed that s is a valid roman numeral in the range [1, 3999]."
   ]
  },
  {
   "cell_type": "code",
   "execution_count": 8,
   "metadata": {},
   "outputs": [],
   "source": [
    "class Solution:\n",
    "    def romanToInt(self, s: str) -> int:\n",
    "        val_map = {\n",
    "            'I': 1,\n",
    "            'IV': 4,\n",
    "            'V': 5,\n",
    "            'IX': 9,\n",
    "            'X': 10,\n",
    "            'XL': 40,\n",
    "            'L': 50,\n",
    "            'XC': 90,\n",
    "            'C': 100,\n",
    "            'CD': 400,\n",
    "            'D': 500,\n",
    "            'CM': 900,\n",
    "            'M': 1000\n",
    "        }\n",
    "\n",
    "        total = 0\n",
    "        skip_next = False\n",
    "        for i in range(len(s)):\n",
    "            if skip_next:\n",
    "                skip_next = False\n",
    "                continue\n",
    "\n",
    "            if s[i:i+2] in val_map:\n",
    "                total += val_map[s[i:i+2]]\n",
    "                skip_next = True # skip the next character because it's part of the current numeral\n",
    "            else:\n",
    "                total += val_map[s[i]]\n",
    "\n",
    "        return total\n"
   ]
  },
  {
   "cell_type": "code",
   "execution_count": 9,
   "metadata": {},
   "outputs": [
    {
     "name": "stdout",
     "output_type": "stream",
     "text": [
      "III -> 3 == 3: True\n",
      "LVIII -> 58 == 58: True\n",
      "MCMXCIV -> 1994 == 1994: True\n",
      "IV -> 4 == 4: True\n",
      "IX -> 9 == 9: True\n"
     ]
    }
   ],
   "source": [
    "s = Solution()\n",
    "test_cases = [\n",
    "    {\n",
    "        \"input\": \"III\",\n",
    "        \"output\": 3\n",
    "    },\n",
    "    {\n",
    "        \"input\": \"LVIII\",\n",
    "        \"output\": 58\n",
    "    },\n",
    "    {\n",
    "        \"input\": \"MCMXCIV\",\n",
    "        \"output\": 1994\n",
    "    },\n",
    "    {\n",
    "        \"input\": \"IV\",\n",
    "        \"output\": 4\n",
    "    },\n",
    "    {\n",
    "        \"input\": \"IX\",\n",
    "        \"output\": 9\n",
    "    }\n",
    "]\n",
    "\n",
    "for test in test_cases:\n",
    "    result = s.romanToInt(test[\"input\"])        \n",
    "    print(f\"{test['input']} -> {result} == {test['output']}: {result == test['output']}\")"
   ]
  }
 ],
 "metadata": {
  "kernelspec": {
   "display_name": "mtci-data-alg-py3.12.2",
   "language": "python",
   "name": "python3"
  },
  "language_info": {
   "codemirror_mode": {
    "name": "ipython",
    "version": 3
   },
   "file_extension": ".py",
   "mimetype": "text/x-python",
   "name": "python",
   "nbconvert_exporter": "python",
   "pygments_lexer": "ipython3",
   "version": "3.12.2"
  }
 },
 "nbformat": 4,
 "nbformat_minor": 2
}
