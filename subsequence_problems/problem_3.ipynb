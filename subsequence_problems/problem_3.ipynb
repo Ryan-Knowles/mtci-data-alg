{
 "cells": [
  {
   "cell_type": "markdown",
   "metadata": {},
   "source": [
    "# Problem 3: Count Subsequences in Lexicographical Range (Medium)\n",
    "\n",
    "### Problem Statement:\n",
    "\n",
    "Given a string s and two strings lower and upper, count the number of subsequences of s that are lexicographically between lower and upper (inclusive).\n",
    "\n",
    "### Example 1:\n",
    "\n",
    "```\n",
    "Input: s = \"abcde\", lower = \"bb\", upper = \"cd\"\n",
    "Output: 3\n",
    "Explanation: The subsequences [\"bc\", \"bd\", \"cd\"] are all lexicographically in the range [\"bb\", \"cd\"].\n",
    "```\n",
    "\n",
    "### Example 2:\n",
    "\n",
    "```\n",
    "Input: s = \"xyz\", lower = \"a\", upper = \"z\"\n",
    "Output: 7\n",
    "Explanation: All non-empty subsequences of \"xyz\" are in the range.\n",
    "```\n",
    "\n",
    "### Constraints:\n",
    "- 1 <= s.length <= 100\n",
    "- 1 <= lower.length, upper.length <= 100\n",
    "- lower is lexicographically smaller than or equal to upper.\n",
    "- All strings consist of lowercase English letters."
   ]
  }
 ],
 "metadata": {
  "language_info": {
   "name": "python"
  }
 },
 "nbformat": 4,
 "nbformat_minor": 2
}
