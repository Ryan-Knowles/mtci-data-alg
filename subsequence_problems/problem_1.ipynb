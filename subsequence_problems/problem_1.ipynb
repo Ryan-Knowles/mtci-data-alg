{
 "cells": [
  {
   "cell_type": "markdown",
   "metadata": {},
   "source": [
    "# Problem 1: Count Lexicographically Smaller Subsequences (Easy)\n",
    "### Problem Statement:\n",
    "Given two strings s and t, count the number of distinct subsequences of s that are lexicographically smaller than t.\n",
    "\n",
    "### Example 1:\n",
    "\n",
    "```\n",
    "Input: s = \"abc\", t = \"bcd\"\n",
    "Output: 4\n",
    "Explanation: The subsequences [\"a\", \"ab\", \"ac\", \"abc\"] are all lexicographically smaller than \"bcd\".\n",
    "```\n",
    "\n",
    "### Example 2:\n",
    "\n",
    "```\n",
    "Input: s = \"xyz\", t = \"abc\"\n",
    "Output: 0\n",
    "Explanation: No subsequence of \"xyz\" is lexicographically smaller than \"abc\".\n",
    "```\n",
    "\n",
    "### Constraints:\n",
    "- 1 <= s.length, t.length <= 100\n",
    "- s and t consist of lowercase English letters."
   ]
  }
 ],
 "metadata": {
  "language_info": {
   "name": "python"
  }
 },
 "nbformat": 4,
 "nbformat_minor": 2
}
