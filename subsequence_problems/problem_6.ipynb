{
 "cells": [
  {
   "cell_type": "markdown",
   "metadata": {},
   "source": [
    "# Problem 6: Maximum Lexicographical Value (Hard)\n",
    "\n",
    "### Problem Statement:\n",
    "\n",
    "You are given a string s and can perform the following operation any number of times:\n",
    "- Remove a character from the string to form a subsequence\n",
    "\n",
    "Each subsequence has a \"lexicographical value\" defined as:\n",
    "- Its position if all possible subsequences of s were sorted lexicographically\n",
    "\n",
    "Find the maximum lexicographical value possible among all subsequences of length between minLen and maxLen (inclusive).\n",
    "\n",
    "### Example 1:\n",
    "\n",
    "```\n",
    "Input: s = \"abcd\", minLen = 2, maxLen = 3\n",
    "Output: 10\n",
    "Explanation: When all subsequences are sorted, \"cd\" is at position 10.\n",
    "```\n",
    "\n",
    "### Example 2:\n",
    "\n",
    "```\n",
    "Input: s = \"xyz\", minLen = 1, maxLen = 2\n",
    "Output: 6 \n",
    "Explanation: When all subsequences are sorted, \"yz\" is at position 6.\n",
    "```\n",
    "\n",
    "### Constraints:\n",
    "- 1 <= s.length <= 15\n",
    "- 1 <= minLen <= maxLen <= s.length\n",
    "- s consists of lowercase English letters."
   ]
  }
 ],
 "metadata": {
  "language_info": {
   "name": "python"
  }
 },
 "nbformat": 4,
 "nbformat_minor": 2
}
