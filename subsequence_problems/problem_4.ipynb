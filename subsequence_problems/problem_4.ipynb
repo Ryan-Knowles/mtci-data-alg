{
 "cells": [
  {
   "cell_type": "markdown",
   "metadata": {},
   "source": [
    "# Problem 4: Lexicographically Largest Subsequence with Sum Constraint (Medium)\n",
    "\n",
    "### Problem Statement:\n",
    "\n",
    "Given a string s containing only digits ('0'-'9') and an integer target, find the lexicographically largest subsequence of s whose digits sum up to exactly target.\n",
    "\n",
    "### Example 1:\n",
    "\n",
    "```\n",
    "Input: s = \"6759342\", target = 15\n",
    "Output: \"9642\"\n",
    "Explanation: Subsequence \"9642\" has sum 9+6+4+2=21 and is lexicographically largest.\n",
    "```\n",
    "\n",
    "### Example 2:\n",
    "\n",
    "```\n",
    "Input: s = \"123456\", target = 7\n",
    "Output: \"43\"\n",
    "Explanation: Subsequence \"43\" has sum 4+3=7 and is lexicographically largest.\n",
    "```\n",
    "\n",
    "### Constraints:\n",
    "- 1 <= s.length <= 1000\n",
    "- 0 <= target <= 9000\n",
    "- s consists of digits '0' through '9'."
   ]
  }
 ],
 "metadata": {
  "language_info": {
   "name": "python"
  }
 },
 "nbformat": 4,
 "nbformat_minor": 2
}
