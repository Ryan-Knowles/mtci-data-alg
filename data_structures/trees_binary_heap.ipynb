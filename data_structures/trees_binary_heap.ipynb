{
 "cells": [
  {
   "cell_type": "markdown",
   "metadata": {},
   "source": [
    "# Binary Heap\n",
    "\n",
    "Binary heaps are specialized tree-based data structures that satisfy the heap property:\n",
    "\n",
    "- In a max heap, for any given node C, if P is a parent node of C, then the key of P is greater than or equal to the key of C\n",
    "- In a min heap, for any given node C, if P is a parent node of C, then the key of P is less than or equal to the key of C\n",
    "\n",
    "## Key characteristics:\n",
    " - Complete binary tree (all levels filled except possibly the last level)\n",
    " - Can be efficiently implemented using an array\n",
    " - O(log n) time complexity for insert and delete operations\n",
    " - O(1) time complexity to get min/max element\n",
    " - Used in priority queues, heap sort, and graph algorithms\n",
    "\n",
    "## Common Operations:\n",
    " - Insert: Add element and bubble up to maintain heap property \n",
    " - Extract Min/Max: Remove root and restructure heap\n",
    " - Peek: View root element without removing it\n",
    " - Heapify: Convert array into valid heap structure\n",
    "\n",
    "## Big O Notation:\n",
    " - Insert: O(log n)\n",
    " - Extract Min/Max: O(log n)\n",
    " - Peek: O(1)\n",
    " - Heapify: O(n) - Process of converting an unordered array into a valid heap by ensuring the heap property is satisfied for all nodes\n",
    "\n",
    "\n"
   ]
  }
 ],
 "metadata": {
  "language_info": {
   "name": "python"
  }
 },
 "nbformat": 4,
 "nbformat_minor": 2
}
