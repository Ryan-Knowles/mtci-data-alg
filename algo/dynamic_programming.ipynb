{
 "cells": [
  {
   "cell_type": "markdown",
   "id": "0b2d155e",
   "metadata": {},
   "source": [
    "# Dynamic Programming\n",
    "\n",
    "- If the problem can be broken down into subproblems, and the same subproblems are encountered again and again, then we can use dynamic programming.\n",
    "- Use memoization to store results of subproblems.\n",
    "- Calculate the result for a smaller problem and store it.\n",
    "- Use the stored result to calculate the result for the next larger problem.\n",
    "- This is a bottom-up approach.\n",
    "- The subproblems are solved in order of their size.\n",
    "- The final result is the solution to the original problem.\n",
    "\n"
   ]
  },
  {
   "cell_type": "code",
   "execution_count": 2,
   "id": "09f2608e",
   "metadata": {},
   "outputs": [],
   "source": [
    "memo = {} # More advanced might use a LRU cache\n",
    "def memoized_fib(n, memo):\n",
    "    # Check cache first\n",
    "    if n in memo:\n",
    "        return memo[n]\n",
    "\n",
    "    if n <= 1:\n",
    "        return n\n",
    "\n",
    "    memo[n] = memoized_fib(n-1, memo) + memoized_fib(n-2, memo)\n",
    "    return memo[n]"
   ]
  },
  {
   "cell_type": "code",
   "execution_count": 3,
   "id": "197e12aa",
   "metadata": {},
   "outputs": [
    {
     "name": "stdout",
     "output_type": "stream",
     "text": [
      "All tests passed!\n"
     ]
    }
   ],
   "source": [
    "# Test the memoized_fib function\n",
    "def test_memoized_fib():\n",
    "    memo = {}\n",
    "    # Test base cases\n",
    "    assert memoized_fib(0, memo) == 0\n",
    "    assert memoized_fib(1, memo) == 1\n",
    "    \n",
    "    # Test a few known Fibonacci numbers\n",
    "    assert memoized_fib(2, memo) == 1\n",
    "    assert memoized_fib(3, memo) == 2\n",
    "    assert memoized_fib(5, memo) == 5\n",
    "    assert memoized_fib(8, memo) == 21\n",
    "    assert memoized_fib(10, memo) == 55\n",
    "    \n",
    "    # Test with pre-populated memo\n",
    "    test_memo = {0: 0, 1: 1, 2: 1}\n",
    "    assert memoized_fib(3, test_memo) == 2\n",
    "    assert 3 in test_memo  # Check that the result was memoized\n",
    "    \n",
    "    # Test a larger number to verify memoization efficiency\n",
    "    large_memo = {}\n",
    "    result = memoized_fib(30, large_memo)\n",
    "    assert result == 832040\n",
    "    assert len(large_memo) > 0  # Verify memo was used\n",
    "\n",
    "# Run the tests\n",
    "test_memoized_fib()\n",
    "print(\"All tests passed!\")\n"
   ]
  }
 ],
 "metadata": {
  "kernelspec": {
   "display_name": "mtci-data-alg-py3.12.2",
   "language": "python",
   "name": "python3"
  },
  "language_info": {
   "codemirror_mode": {
    "name": "ipython",
    "version": 3
   },
   "file_extension": ".py",
   "mimetype": "text/x-python",
   "name": "python",
   "nbconvert_exporter": "python",
   "pygments_lexer": "ipython3",
   "version": "3.12.2"
  }
 },
 "nbformat": 4,
 "nbformat_minor": 5
}
