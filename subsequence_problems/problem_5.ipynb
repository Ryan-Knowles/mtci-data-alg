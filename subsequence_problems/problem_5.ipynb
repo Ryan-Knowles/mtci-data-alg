{
 "cells": [
  {
   "cell_type": "markdown",
   "metadata": {},
   "source": [
    "# Problem 5: Count Optimal Subsequences (Hard)\n",
    "\n",
    "### Problem Statement:\n",
    "\n",
    "An \"optimal subsequence\" of a string is defined as:\n",
    "1. It must be lexicographically smaller than its original string\n",
    "2. It must be lexicographically larger than all other subsequences that satisfy condition 1\n",
    "\n",
    "Given a string s, count the number of distinct optimal subsequences over all possible subsequences of s.\n",
    "\n",
    "### Example 1:\n",
    "\n",
    "```\n",
    "Input: s = \"abc\"\n",
    "Output: 1\n",
    "Explanation: The only optimal subsequence is \"ab\" (it's smaller than \"abc\" and larger than \"a\").\n",
    "```\n",
    "\n",
    "### Example 2:\n",
    "\n",
    "```\n",
    "Input: s = \"bac\"\n",
    "Output: 2\n",
    "Explanation: The optimal subsequences are \"ba\" and \"ac\".\n",
    "```\n",
    "\n",
    "### Constraints:\n",
    "- 1 <= s.length <= 20\n",
    "- s consists of lowercase English letters."
   ]
  }
 ],
 "metadata": {
  "language_info": {
   "name": "python"
  }
 },
 "nbformat": 4,
 "nbformat_minor": 2
}
