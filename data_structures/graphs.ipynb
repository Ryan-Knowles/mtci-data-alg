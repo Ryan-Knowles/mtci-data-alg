{
 "cells": [
  {
   "cell_type": "markdown",
   "metadata": {},
   "source": [
    "# Graphs\n",
    "\n",
    "- Graphs consist of vertices (or nodes) and edges (or connections).\n",
    "- A tree is a type of graph where each vertex has at most one parent.\n",
    "- A Linked List is a type of graph where each vertex has at most one parent and one child.\n",
    "\n",
    "# Properties of Graphs\n",
    "\n",
    "- Directed vs Undirected - Directed graphs have arrows, undirected graphs do not.\n",
    "- Weighted vs Unweighted - Weighted graphs have values on the edges, unweighted graphs do not.\n",
    "- Cyclic vs Acyclic - Cyclic graphs have loops, acyclic graphs do not.\n",
    "- Dense vs Sparse - Dense graphs have many edges, sparse graphs have few edges.\n",
    "\n",
    "# Types of Graphs\n",
    "\n",
    "- Directed Graphs\n",
    "- Undirected Graphs\n",
    "- Weighted Graphs\n",
    "- Unweighted Graphs\n",
    "- Directed Acyclic Graphs (DAGs)"
   ]
  },
  {
   "cell_type": "code",
   "execution_count": 5,
   "metadata": {},
   "outputs": [],
   "source": [
    "class UndirectedGraph:\n",
    "    def __init__(self):\n",
    "        self.size = 0\n",
    "        self.adjacency_list = {}\n",
    "\n",
    "    def add_vertex(self, node: str):\n",
    "        if node in self.adjacency_list:\n",
    "            raise ValueError('Duplicate node!')\n",
    "        \n",
    "        self.adjacency_list[node] = set()\n",
    "\n",
    "    def add_edge(self, node1:str, node2:str):\n",
    "        if node1 not in self.adjacency_list:\n",
    "            raise ValueError(f\"Node: {node1} does not exist in graph!\")\n",
    "        if node2 not in self.adjacency_list:\n",
    "            raise ValueError(f\"Node: {node2} does not exist in graph!\")\n",
    "        \n",
    "        self.adjacency_list[node1].add(node2)\n",
    "        self.adjacency_list[node2].add(node1)\n",
    "\n",
    "    def display_connections(self):\n",
    "        print('Connections:')\n",
    "        for k, v in self.adjacency_list.items():\n",
    "            print(f\"\\t{k} \\t-> \\t{v}\")"
   ]
  },
  {
   "cell_type": "code",
   "execution_count": 6,
   "metadata": {},
   "outputs": [
    {
     "name": "stdout",
     "output_type": "stream",
     "text": [
      "Connections:\n",
      "\tfalcon \t-> \t{'bird'}\n",
      "\tbird \t-> \t{'falcon', 'dog'}\n",
      "\tcow \t-> \t{'pig', 'horse'}\n",
      "\tdog \t-> \t{'wolf', 'bird', 'pig'}\n",
      "\thorse \t-> \t{'cow'}\n",
      "\tpig \t-> \t{'dog', 'cow'}\n",
      "\twolf \t-> \t{'dog'}\n"
     ]
    }
   ],
   "source": [
    "graph = UndirectedGraph()\n",
    "graph.add_vertex('falcon')\n",
    "graph.add_vertex('bird')\n",
    "graph.add_vertex('cow')\n",
    "graph.add_vertex('dog')\n",
    "graph.add_vertex('horse')\n",
    "graph.add_vertex('pig')\n",
    "graph.add_vertex('wolf')\n",
    "graph.add_edge('wolf', 'dog')\n",
    "graph.add_edge('dog', 'pig')\n",
    "graph.add_edge('pig', 'cow')\n",
    "graph.add_edge('dog', 'bird')\n",
    "graph.add_edge('bird', 'falcon')\n",
    "graph.add_edge('cow', 'horse')\n",
    "\n",
    "graph.display_connections()"
   ]
  }
 ],
 "metadata": {
  "kernelspec": {
   "display_name": "mtci-data-alg-py3.12.2",
   "language": "python",
   "name": "python3"
  },
  "language_info": {
   "codemirror_mode": {
    "name": "ipython",
    "version": 3
   },
   "file_extension": ".py",
   "mimetype": "text/x-python",
   "name": "python",
   "nbconvert_exporter": "python",
   "pygments_lexer": "ipython3",
   "version": "3.12.2"
  }
 },
 "nbformat": 4,
 "nbformat_minor": 2
}
