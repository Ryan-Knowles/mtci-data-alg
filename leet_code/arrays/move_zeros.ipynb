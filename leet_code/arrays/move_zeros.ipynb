{
 "cells": [
  {
   "cell_type": "markdown",
   "metadata": {},
   "source": [
    "# Move Zeroes [easy]\n",
    "\n",
    "Given an integer array **nums**, move all **0**'s to the end of it while maintaining the relative order of the non-zero elements.\n",
    "\n",
    "Note that you must do this in-place without making a copy of the array.\n",
    "\n",
    " \n",
    "## Example 1:\n",
    "\n",
    "Input: nums = [0,1,0,3,12]\n",
    "Output: [1,3,12,0,0]\n",
    "\n",
    "## Example 2:\n",
    "\n",
    "Input: nums = [0]\n",
    "Output: [0]\n",
    "\n",
    "## Constraints:\n",
    "\n",
    "- 1 <= nums.length <= 104\n",
    "- -231 <= nums[i] <= 231 - 1\n",
    " \n",
    "\n",
    "**Follow up:** Could you minimize the total number of operations done?"
   ]
  },
  {
   "cell_type": "code",
   "execution_count": 3,
   "metadata": {},
   "outputs": [],
   "source": [
    "from typing import List\n",
    "\n",
    "def moveZeroes(nums: List[int]) -> None:\n",
    "        \"\"\"\n",
    "        Do not return anything, modify nums in-place instead.\n",
    "        \"\"\"\n",
    "        nonzero_index = 0 # where to move non zero numbers next\n",
    "        for i in range(len(nums)):\n",
    "            # We keep accumulting zeros behind the i\n",
    "            # We swap any real numbers into position nonzero_index\n",
    "            isNumber: bool = (nums[i] != 0)\n",
    "            if isNumber:\n",
    "                if nonzero_index != i:\n",
    "                    nums[nonzero_index] = nums[i]\n",
    "                    nums[i] = 0\n",
    "                nonzero_index += 1"
   ]
  },
  {
   "cell_type": "code",
   "execution_count": 5,
   "metadata": {},
   "outputs": [
    {
     "name": "stdout",
     "output_type": "stream",
     "text": [
      "[1, 3, 12, 0, 0] == [1, 3, 12, 0, 0]\n",
      "[0] == [0]\n",
      "[1, 1, 0] == [1, 1, 0]\n",
      "[1, 0, 0] == [1, 0, 0]\n",
      "[1, 4, 3, 12, 0, 0] == [1, 4, 3, 12, 0, 0]\n"
     ]
    }
   ],
   "source": [
    "test_data = [\n",
    "    ([0,1,0,3,12], [1,3,12,0,0]),\n",
    "    ([0], [0]),\n",
    "    ([1,0,1], [1,1,0]),\n",
    "    ([0,0,1], [1,0,0]),\n",
    "    ([0,1,0,4, 3,12], [1,4,3,12,0,0])\n",
    "]\n",
    "for nums, expected in test_data:\n",
    "    moveZeroes(nums)\n",
    "    assert nums == expected\n",
    "    print(f\"{nums} == {expected}\")\n"
   ]
  }
 ],
 "metadata": {
  "kernelspec": {
   "display_name": "mtci-data-alg-py3.12.2",
   "language": "python",
   "name": "python3"
  },
  "language_info": {
   "codemirror_mode": {
    "name": "ipython",
    "version": 3
   },
   "file_extension": ".py",
   "mimetype": "text/x-python",
   "name": "python",
   "nbconvert_exporter": "python",
   "pygments_lexer": "ipython3",
   "version": "3.12.2"
  }
 },
 "nbformat": 4,
 "nbformat_minor": 2
}
