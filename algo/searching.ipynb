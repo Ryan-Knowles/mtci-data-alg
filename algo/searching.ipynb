{
 "cells": [
  {
   "cell_type": "markdown",
   "metadata": {},
   "source": [
    "# Searching\n",
    "\n",
    "Problem: Given some collection of data, we need to find a specific item.\n",
    "\n",
    "## Types of Searching\n",
    "\n",
    "### Linear Search\n",
    "\n",
    "Iterate through the collection of data, one by one, and check if it's the item we're looking for. \n",
    "\n",
    "**Slow, O(n) time complexity.**\n",
    "\n",
    "### Binary Search\n",
    "\n",
    "**Only works on sorted arrays.** Start from the middle of the array and compare the item to the middle of the array. If the item is less than the middle, search the left half, if the item is greater than the middle, search the right half. \n",
    "\n",
    "**Faster, O(log2 n) time complexity.**\n",
    "\n",
    "\n",
    "### Breadth-First Search (BFS)\n",
    "\n",
    "**Only works on Graphs/Trees.** Start from the root node and visit all the nodes at the current depth level before moving on to the next depth level.\n",
    "\n",
    "**O(n) time complexity because we have to visit every node.**\n",
    "\n",
    "**Pros:**\n",
    "- Finds the shortest path\n",
    "- Searches nearby nodes first so if there is a solution nearby, we find it first\n",
    "\n",
    "**Cons:**\n",
    "- Requires more memory because we see a lot of nodes that we need to remember before visitng them.\n",
    "\n",
    "\n",
    "\n",
    "### Depth-First Search (DFS)\n",
    "\n",
    "**Only works on Graphs/Trees.** Start from the root node and visit the first child node, then the first child node's child node, and so on.\n",
    "\n",
    "**O(n) time complexity because we have to visit every node.**\n",
    "\n",
    "**Pros:**\n",
    "- Requires less memory because we don't need to keep a list to rememeber all the nodes we've seen.\n",
    "- Can answer the question \"Is there a path between two nodes?\"\n",
    "\n",
    "**Cons:**\n",
    "- Can be slower than BFS because we may search a long way from the root node before finding a solution.\n",
    "\n",
    "\n",
    "\n",
    "\n",
    "\n",
    "\n",
    "\n"
   ]
  },
  {
   "cell_type": "markdown",
   "metadata": {},
   "source": [
    "## BFS vs DFS Exercise\n",
    "\n",
    "- If you know a solution is not far from the root of the tree: BFS\n",
    "- If the tree is very deep and solutions are rare: DFS XX Use BFS, DFS will be slower\n",
    "- If the tree is very wide: BFS XX DFS, as BFS will require too much memory\n",
    "- If solutions are frequent but located deep in the tree: DFS\n",
    "- Determining whether a path exists between two nodes: DFS\n",
    "- Finding the shortest path: BFS"
   ]
  }
 ],
 "metadata": {
  "kernelspec": {
   "display_name": "mtci-data-alg-py3.12.2",
   "language": "python",
   "name": "python3"
  },
  "language_info": {
   "name": "python",
   "version": "3.12.2"
  }
 },
 "nbformat": 4,
 "nbformat_minor": 2
}
