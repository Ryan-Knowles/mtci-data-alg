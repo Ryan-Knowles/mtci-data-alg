{
 "cells": [
  {
   "cell_type": "markdown",
   "metadata": {},
   "source": [
    "# BFS\n",
    "\n",
    "## Algorithm\n",
    "\n",
    "1. Create a queue structure\n",
    "2. Start at root node, add to queue\n",
    "3. Pop first node from queue and add the children to the back of the queue\n",
    "4. Repeat until the queue is empty"
   ]
  },
  {
   "cell_type": "code",
   "execution_count": 9,
   "metadata": {},
   "outputs": [],
   "source": [
    "from typing import Optional\n",
    "class BSTNode:\n",
    "        def __init__(self, value):\n",
    "            self.value = value\n",
    "            self.left = None\n",
    "            self.right = None\n",
    "\n",
    "class BST:\n",
    "    def __init__(self, root:Optional[BSTNode] = None):\n",
    "        self.root = root\n",
    "\n",
    "    def insert(self, value):\n",
    "        if self.root is None:\n",
    "            self.root = BSTNode(value)\n",
    "            return\n",
    "        \n",
    "        current = self.root\n",
    "        parent = None\n",
    "        parent_left = True\n",
    "        while current is not None:\n",
    "            parent = current\n",
    "            if value < current.value:\n",
    "                current = current.left\n",
    "                parent_left = True\n",
    "            else:\n",
    "                current = current.right\n",
    "                parent_left = False\n",
    "\n",
    "        if parent_left:\n",
    "            parent.left = BSTNode(value)\n",
    "        else:\n",
    "            parent.right = BSTNode(value)\n",
    "        \n",
    "tree = BST()\n",
    "tree.insert(9)    # Root\n",
    "tree.insert(4)    # Left of 9\n",
    "tree.insert(20)   # Right of 9\n",
    "tree.insert(1)    # Left of 4\n",
    "tree.insert(6)    # Right of 4\n",
    "tree.insert(15)   # Left of 20\n",
    "tree.insert(170)  # Right of 20\n",
    "\n",
    "invalid_tree = BST()\n",
    "invalid_tree.root = BSTNode(10)\n",
    "invalid_tree.root.left = BSTNode(5)\n",
    "invalid_tree.root.right = BSTNode(15)\n",
    "invalid_tree.root.left.right = BSTNode(20)  # Invalid! 20 > 10\n",
    "\n",
    "# Tree structure:\n",
    "#\n",
    "#        9\n",
    "#       / \\\n",
    "#      4   20\n",
    "#     / \\  / \\\n",
    "#    1  6 15 170\n",
    "#\n",
    "# This is a balanced binary search tree where:\n",
    "# - Left children are always less than their parent\n",
    "# - Right children are always greater than their parent\n",
    "# - The tree has a height of 2 (counting from 0)\n",
    "# - BFS traversal order: 9, 4, 20, 1, 6, 15, 170\n",
    "# - DFS traversal order (pre-order): 9, 4, 1, 6, 20, 15, 170\n"
   ]
  },
  {
   "cell_type": "code",
   "execution_count": 10,
   "metadata": {},
   "outputs": [
    {
     "data": {
      "text/plain": [
       "True"
      ]
     },
     "execution_count": 10,
     "metadata": {},
     "output_type": "execute_result"
    }
   ],
   "source": [
    "def bfs(tree) -> list[int]:\n",
    "    vals: list[int] = []\n",
    "    \n",
    "    node_queue: list[BSTNode] = []\n",
    "    node_queue.append(tree.root)\n",
    "\n",
    "    while len(node_queue) > 0:\n",
    "        node = node_queue.pop(0)\n",
    "        vals.append(node.value)\n",
    "        if node.left is not None:\n",
    "            node_queue.append(node.left)\n",
    "\n",
    "        if node.right is not None:\n",
    "            node_queue.append(node.right)\n",
    "\n",
    "    return vals\n",
    "\n",
    "bfs(tree)\n",
    "\n",
    "def validate_bst(tree) -> bool:\n",
    "    node_queue: list[BSTNode] = []\n",
    "    node_queue.append(tree.root)\n",
    "\n",
    "    while len(node_queue) > 0:\n",
    "        node = node_queue.pop(0)\n",
    "        # Add to the queue and we can validate it is in correct position\n",
    "        if node.left is not None:\n",
    "            # validate it's value\n",
    "            if node.left.value > node.value:\n",
    "                return False\n",
    "            node_queue.append(node.left)\n",
    "\n",
    "        if node.right is not None:\n",
    "            # valide it's value\n",
    "            if node.right.value < node.value:\n",
    "                return False\n",
    "            node_queue.append(node.right)\n",
    "            \n",
    "    return True\n",
    "\n",
    "validate_bst(invalid_tree)"
   ]
  }
 ],
 "metadata": {
  "kernelspec": {
   "display_name": "mtci-data-alg-py3.12.2",
   "language": "python",
   "name": "python3"
  },
  "language_info": {
   "codemirror_mode": {
    "name": "ipython",
    "version": 3
   },
   "file_extension": ".py",
   "mimetype": "text/x-python",
   "name": "python",
   "nbconvert_exporter": "python",
   "pygments_lexer": "ipython3",
   "version": "3.12.2"
  }
 },
 "nbformat": 4,
 "nbformat_minor": 2
}
