{
 "cells": [
  {
   "cell_type": "markdown",
   "metadata": {},
   "source": [
    "# Arrays\n",
    "\n",
    "## Types\n",
    "- Static - Fixed size\n",
    "- Dynamic - Grows as needed, usually by doubling the size\n",
    "\n",
    "## Operations\n",
    "- Access - O(1)\n",
    "- Search - O(n) to find the value\n",
    "- Insert - O(n) **search** for the open slot and insert the value\n",
    "- Delete - O(n) **search** for the value and delete it\n"
   ]
  },
  {
   "cell_type": "markdown",
   "metadata": {},
   "source": [
    "# Exercise: Merge two sorted arrays"
   ]
  },
  {
   "cell_type": "code",
   "execution_count": 4,
   "metadata": {},
   "outputs": [
    {
     "data": {
      "text/plain": [
       "[0, 3, 4, 4, 4, 4, 5, 5, 5, 6, 29, 30, 55, 89, 90]"
      ]
     },
     "execution_count": 4,
     "metadata": {},
     "output_type": "execute_result"
    }
   ],
   "source": [
    "def merge_sorted_arrays(arr1, arr2):\n",
    "    index1 = 0\n",
    "    index2 = 0\n",
    "    merged_array = []\n",
    "    while index1 < len(arr1) and index2 < len(arr2): # still have elements to compare\n",
    "        if arr1[index1] < arr2[index2]:\n",
    "            merged_array.append(arr1[index1])\n",
    "            index1 += 1\n",
    "        else:\n",
    "            merged_array.append(arr2[index2])\n",
    "            index2 += 1\n",
    "    \n",
    "    # Add any remaining elements\n",
    "    while index1 < len(arr1):\n",
    "        merged_array.append(arr1[index1])\n",
    "        index1 += 1\n",
    "    while index2 < len(arr2):\n",
    "        merged_array.append(arr2[index2])\n",
    "        index2 += 1\n",
    "    return merged_array\n",
    "\n",
    "merge_sorted_arrays([0,3,4,31], [4,6,30])\n",
    "merge_sorted_arrays([0,3,4,4,5,29,89], [4,4,5,5,6,30,55,90])"
   ]
  }
 ],
 "metadata": {
  "kernelspec": {
   "display_name": "mtci-data-alg-py3.12.2",
   "language": "python",
   "name": "python3"
  },
  "language_info": {
   "codemirror_mode": {
    "name": "ipython",
    "version": 3
   },
   "file_extension": ".py",
   "mimetype": "text/x-python",
   "name": "python",
   "nbconvert_exporter": "python",
   "pygments_lexer": "ipython3",
   "version": "3.12.2"
  }
 },
 "nbformat": 4,
 "nbformat_minor": 2
}
