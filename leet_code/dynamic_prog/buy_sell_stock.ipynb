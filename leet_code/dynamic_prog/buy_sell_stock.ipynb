{
 "cells": [
  {
   "cell_type": "markdown",
   "metadata": {},
   "source": [
    "# Best Time to Buy and Sell Stock [easy]\n",
    "\n",
    "Source: https://leetcode.com/problems/best-time-to-buy-and-sell-stock/description/\n",
    "\n",
    "You are given an array **prices** where prices[i] is the price of a given stock on the **ith** day.\n",
    "\n",
    "You want to maximize your profit by choosing a single day to buy one stock and choosing a different day in the future to sell that stock.\n",
    "\n",
    "Return the maximum profit you can achieve from this transaction. If you cannot achieve any profit, return 0.\n",
    "\n",
    "## Example 1:\n",
    "\n",
    "Input: prices = [7,1,5,3,6,4]\n",
    "\n",
    "Output: 5\n",
    "\n",
    "Explanation: Buy on day 2 (price = 1) and sell on day 5 (price = 6), profit = 6-1 = 5.\n",
    "Note that buying on day 2 and selling on day 1 is not allowed because you must buy before you sell.\n",
    "\n",
    "## Example 2:\n",
    "\n",
    "Input: prices = [7,6,4,3,1]\n",
    "\n",
    "Output: 0\n",
    "\n",
    "Explanation: In this case, no transactions are done and the max profit = 0.\n",
    " \n",
    "\n",
    "Constraints:\n",
    "\n",
    "- 1 <= prices.length <= 105\n",
    "- 0 <= prices[i] <= 104\n"
   ]
  },
  {
   "cell_type": "code",
   "execution_count": null,
   "metadata": {},
   "outputs": [],
   "source": [
    "from typing import List\n",
    "\n",
    "# No dynamic programming /memoization here?\n",
    "class Solution:\n",
    "    def maxProfit(self, prices: List[int]) -> int:\n",
    "        profit = 0\n",
    "        buy = prices[0]\n",
    "\n",
    "        for i in range(1, len(prices)):\n",
    "            # Update our buy price as we move through the list\n",
    "            if prices[i] < buy:\n",
    "                buy = prices[i]\n",
    "\n",
    "            # Update our expected max profit as we move through the list\n",
    "            if profit < (prices[i] - buy):\n",
    "                profit = prices[i] - buy\n",
    "\n",
    "        return profit"
   ]
  },
  {
   "cell_type": "code",
   "execution_count": 16,
   "metadata": {},
   "outputs": [
    {
     "name": "stdout",
     "output_type": "stream",
     "text": [
      "All test cases passed!\n"
     ]
    }
   ],
   "source": [
    "# Test cases\n",
    "def test_max_profit():\n",
    "    solution = Solution()\n",
    "    \n",
    "    # Example 1: Regular case with profit\n",
    "    prices1 = [7, 1, 5, 3, 6, 4]\n",
    "    assert solution.maxProfit(prices1) == 5, f\"Expected 5, got {solution.maxProfit(prices1)}\"\n",
    "    \n",
    "    # Example 2: No profit possible (decreasing prices)\n",
    "    prices2 = [7, 6, 4, 3, 1]\n",
    "    assert solution.maxProfit(prices2) == 0, f\"Expected 0, got {solution.maxProfit(prices2)}\"\n",
    "    \n",
    "    # Additional test cases\n",
    "    # Single day - no profit possible\n",
    "    prices3 = [5]\n",
    "    assert solution.maxProfit(prices3) == 0, f\"Expected 0, got {solution.maxProfit(prices3)}\"\n",
    "    \n",
    "    # Two days with profit\n",
    "    prices4 = [1, 2]\n",
    "    assert solution.maxProfit(prices4) == 1, f\"Expected 1, got {solution.maxProfit(prices4)}\"\n",
    "    \n",
    "    # Two days with no profit\n",
    "    prices5 = [2, 1]\n",
    "    assert solution.maxProfit(prices5) == 0, f\"Expected 0, got {solution.maxProfit(prices5)}\"\n",
    "    \n",
    "    # Large profit case\n",
    "    prices6 = [3, 2, 6, 5, 0, 3, 10]\n",
    "    assert solution.maxProfit(prices6) == 10, f\"Expected 10, got {solution.maxProfit(prices6)}\"\n",
    "    \n",
    "    print(\"All test cases passed!\")\n",
    "\n",
    "# Run the tests\n",
    "test_max_profit()\n"
   ]
  }
 ],
 "metadata": {
  "kernelspec": {
   "display_name": "mtci-data-alg-py3.12.2",
   "language": "python",
   "name": "python3"
  },
  "language_info": {
   "codemirror_mode": {
    "name": "ipython",
    "version": 3
   },
   "file_extension": ".py",
   "mimetype": "text/x-python",
   "name": "python",
   "nbconvert_exporter": "python",
   "pygments_lexer": "ipython3",
   "version": "3.12.2"
  }
 },
 "nbformat": 4,
 "nbformat_minor": 2
}
