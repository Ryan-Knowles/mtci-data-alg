{
 "cells": [
  {
   "cell_type": "markdown",
   "id": "d04c0471",
   "metadata": {},
   "source": [
    "# First Bad Version [easy]\n",
    "\n",
    "Source: https://leetcode.com/problems/first-bad-version/?envType=problem-list-v2&envId=rab78cw1\n",
    "\n",
    "You are a product manager and currently leading a team to develop a new product. Unfortunately, the latest version of your product fails the quality check. Since each version is developed based on the previous version, all the versions after a bad version are also bad.\n",
    "\n",
    "Suppose you have n versions [1, 2, ..., n] and you want to find out the first bad one, which causes all the following ones to be bad.\n",
    "\n",
    "You are given an API bool isBadVersion(version) which returns whether version is bad. Implement a function to find the first bad version. You should minimize the number of calls to the API.\n",
    "\n",
    "## Example 1:\n",
    "\n",
    "> Input: n = 5, bad = 4  \n",
    "> Output: 4  \n",
    "Explanation:  \n",
    "> call isBadVersion(3) -> false  \n",
    "> call isBadVersion(5) -> true  \n",
    "> call isBadVersion(4) -> true  \n",
    "Then 4 is the first bad version.\n",
    "\n",
    "## Example 2:\n",
    "\n",
    "> Input: n = 1, bad = 1  \n",
    "> Output: 1  \n",
    " \n",
    "\n",
    "## Constraints:\n",
    "\n",
    "- 1 <= bad <= n <= 231 - 1"
   ]
  },
  {
   "cell_type": "code",
   "execution_count": null,
   "id": "bd8ee5ea",
   "metadata": {},
   "outputs": [],
   "source": [
    "# The isBadVersion API is already defined for you.\n",
    "# def isBadVersion(version: int) -> bool:\n",
    "\n",
    "class Solution:\n",
    "    def firstBadVersion(self, n: int) -> int:\n",
    "        if n == 1:\n",
    "            return 1\n",
    "\n",
    "        index = (n) // 2 + 1 # 3\n",
    "\n",
    "        l_idx = 1 # 1, 3\n",
    "        r_idx = n # 5, 4\n",
    "\n",
    "        # Binary search over a list\n",
    "        while l_idx != r_idx:\n",
    "            if isBadVersion(index):\n",
    "                r_idx = index\n",
    "            else:\n",
    "                l_idx = index +1\n",
    "\n",
    "            # Update index to middle point between the two constraints\n",
    "            index = (r_idx - l_idx) // 2 + l_idx # 4, 3, 3, 3..."
   ]
  }
 ],
 "metadata": {
  "kernelspec": {
   "display_name": "mtci-data-alg-py3.12.2",
   "language": "python",
   "name": "python3"
  },
  "language_info": {
   "name": "python",
   "version": "3.12.2"
  }
 },
 "nbformat": 4,
 "nbformat_minor": 5
}
