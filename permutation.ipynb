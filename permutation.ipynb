{
 "cells": [
  {
   "cell_type": "markdown",
   "metadata": {},
   "source": [
    "You are given a user string that can contain up to 10^10000 characters. You are given a security string S that contains up to 100 characters. Find all permutations of the user string by removing 1 to n-1 characters from the user string that are lexicographically greater than the security string S.\n",
    "\n",
    "Example:\n",
    "user_string = \"abcd\"\n",
    "security_string = \"ac\"\n",
    "\n",
    "Output:\n",
    "['ad']\n",
    "\n"
   ]
  },
  {
   "cell_type": "code",
   "execution_count": null,
   "metadata": {
    "vscode": {
     "languageId": "plaintext"
    }
   },
   "outputs": [],
   "source": [
    "# having such a large number of characters means we need a generator function\n",
    "# to avoid memory issues\n",
    "\n",
    "def find_substrings(user_string, security_string):\n",
    "    for i in range(len(user_string)):"
   ]
  }
 ],
 "metadata": {
  "language_info": {
   "name": "python"
  }
 },
 "nbformat": 4,
 "nbformat_minor": 2
}
