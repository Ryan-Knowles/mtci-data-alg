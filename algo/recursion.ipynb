{
 "cells": [
  {
   "cell_type": "markdown",
   "metadata": {},
   "source": [
    "# Recursion\n",
    "\n",
    "- Must have base case to stop execution so dont have stack overflow\n",
    "\n",
    "# Examples"
   ]
  },
  {
   "cell_type": "code",
   "execution_count": 2,
   "metadata": {},
   "outputs": [
    {
     "name": "stdout",
     "output_type": "stream",
     "text": [
      "find_factorial_iterative(5)=120 == find_factorial_recursive(5)=120\n",
      "find_factorial_iterative(5)=120 == find_factorial_recursive(5)=120\n",
      "find_factorial_iterative(1)=1 == find_factorial_recursive(1)=1\n",
      "find_factorial_iterative(10)=3628800 == find_factorial_recursive(10)=3628800\n",
      "All factorial test cases passed!\n"
     ]
    }
   ],
   "source": [
    "# Factorial example\n",
    "def find_factorial_iterative(n:int) -> int:\n",
    "    count = 1\n",
    "    while n > 0:\n",
    "        count = count * n\n",
    "        n -= 1\n",
    "    return count\n",
    "\n",
    "def find_factorial_recursive(n:int) -> int:\n",
    "    if n == 0:\n",
    "        return 1\n",
    "    return n * find_factorial_recursive(n-1)\n",
    "\n",
    "def find_factorial_recursive_tco(n:int, acc:int=1) -> int:\n",
    "    if n == 0:\n",
    "        return acc\n",
    "    return find_factorial_recursive_tco(n-1, n * acc)\n",
    "\n",
    "\n",
    "# Test cases\n",
    "def test_factorial():\n",
    "    # Test case 1: factorial of 5 is 120\n",
    "    assert find_factorial_iterative(5) == find_factorial_recursive(5) == 120\n",
    "    print(f\"{find_factorial_iterative(5)=} == {find_factorial_recursive(5)=}\")\n",
    "    \n",
    "    # Test case 2: factorial of 0 is 1\n",
    "    assert find_factorial_iterative(0) == find_factorial_recursive(0) == 1\n",
    "    print(f\"{find_factorial_iterative(5)=} == {find_factorial_recursive(5)=}\")\n",
    "\n",
    "    \n",
    "    # Test case 3: factorial of 1 is 1\n",
    "    assert find_factorial_iterative(1) == find_factorial_recursive(1) == 1\n",
    "    print(f\"{find_factorial_iterative(1)=} == {find_factorial_recursive(1)=}\")\n",
    "\n",
    "    \n",
    "    # Test case 4: factorial of 10 is 3628800\n",
    "    assert find_factorial_iterative(10) == find_factorial_recursive(10) == 3628800\n",
    "    print(f\"{find_factorial_iterative(10)=} == {find_factorial_recursive(10)=}\")\n",
    "\n",
    "    \n",
    "    print(\"All factorial test cases passed!\")\n",
    "\n",
    "# Run the tests\n",
    "test_factorial()"
   ]
  },
  {
   "cell_type": "code",
   "execution_count": 4,
   "metadata": {},
   "outputs": [
    {
     "name": "stdout",
     "output_type": "stream",
     "text": [
      "fibonacci_iterative(0)=0 == fibonacci_recursive(0)=0 == fibonacci_recursive_tco(0)=0\n",
      "fibonacci_iterative(1)=1 == fibonacci_recursive(1)=1 == fibonacci_recursive_tco(1)=1\n",
      "fibonacci_iterative(2)=1 == fibonacci_recursive(2)=1 == fibonacci_recursive_tco(2)=1\n",
      "fibonacci_iterative(5)=5 == fibonacci_recursive(5)=5 == fibonacci_recursive_tco(5)=5\n",
      "fibonacci_iterative(10)=55 == fibonacci_recursive(10)=55 == fibonacci_recursive_tco(10)=55\n",
      "All fibonacci test cases passed!\n"
     ]
    }
   ],
   "source": [
    "# Fibonacci sequence\n",
    "def fibonacci_iterative(n:int) -> int:\n",
    "    base = [0, 1]\n",
    "    if n <= 1:\n",
    "        return base[max(n, 0)]\n",
    "    \n",
    "    for i in range(len(base), n+1):\n",
    "        base.append(base[i-1] + base[i-2])\n",
    "    return base[n]\n",
    "\n",
    "def fibonacci_recursive(n:int) -> int:\n",
    "    base = [0, 1]\n",
    "    if n <= 1:\n",
    "        return base[max(n, 0)]\n",
    "    \n",
    "    return fibonacci_recursive(n-1) + fibonacci_recursive(n - 2)\n",
    "\n",
    "def fibonacci_recursive_tco(n:int, a:int=0, b:int=1) -> int:\n",
    "    if n==0:\n",
    "        return a\n",
    "    return fibonacci_recursive_tco(n-1, b, a+b)\n",
    "\n",
    "# Test cases\n",
    "def test_fibonacci():\n",
    "    # Test case 1: fibonacci of 0 is 0\n",
    "    assert fibonacci_iterative(0) == fibonacci_recursive(0) == fibonacci_recursive_tco(0) == 0\n",
    "    print(f\"{fibonacci_iterative(0)=} == {fibonacci_recursive(0)=} == {fibonacci_recursive_tco(0)=}\")\n",
    "    \n",
    "    # Test case 2: fibonacci of 1 is 1\n",
    "    assert fibonacci_iterative(1) == fibonacci_recursive(1) == fibonacci_recursive_tco(1) == 1\n",
    "    print(f\"{fibonacci_iterative(1)=} == {fibonacci_recursive(1)=} == {fibonacci_recursive_tco(1)=}\")\n",
    "    \n",
    "    # Test case 3: fibonacci of 2 is 1\n",
    "    assert fibonacci_iterative(2) == fibonacci_recursive(2) == fibonacci_recursive_tco(2) == 1\n",
    "    print(f\"{fibonacci_iterative(2)=} == {fibonacci_recursive(2)=} == {fibonacci_recursive_tco(2)=}\")\n",
    "    \n",
    "    # Test case 4: fibonacci of 5 is 5\n",
    "    assert fibonacci_iterative(5) == fibonacci_recursive(5) == fibonacci_recursive_tco(5) == 5\n",
    "    print(f\"{fibonacci_iterative(5)=} == {fibonacci_recursive(5)=} == {fibonacci_recursive_tco(5)=}\")\n",
    "    \n",
    "    # Test case 5: fibonacci of 10 is 55\n",
    "    assert fibonacci_iterative(10) == fibonacci_recursive(10) == fibonacci_recursive_tco(10) == 55\n",
    "    print(f\"{fibonacci_iterative(10)=} == {fibonacci_recursive(10)=} == {fibonacci_recursive_tco(10)=}\")\n",
    "\n",
    "    print(\"All fibonacci test cases passed!\")\n",
    "\n",
    "# Run the tests\n",
    "test_fibonacci()\n"
   ]
  },
  {
   "cell_type": "code",
   "execution_count": 7,
   "metadata": {},
   "outputs": [
    {
     "name": "stdout",
     "output_type": "stream",
     "text": [
      "reverse_string(t)='dcba' == reverse_string_recursive(t)='dcba' == reverse_string_recursive_tco(t)='dcba' == e='dcba'\n",
      "reverse_string(t)='olleh' == reverse_string_recursive(t)='olleh' == reverse_string_recursive_tco(t)='olleh' == e='olleh'\n",
      "reverse_string(t)='' == reverse_string_recursive(t)='' == reverse_string_recursive_tco(t)='' == e=''\n",
      "reverse_string(t)='a' == reverse_string_recursive(t)='a' == reverse_string_recursive_tco(t)='a' == e='a'\n",
      "reverse_string(t)='racecar' == reverse_string_recursive(t)='racecar' == reverse_string_recursive_tco(t)='racecar' == e='racecar'\n",
      "reverse_string(t)='54321' == reverse_string_recursive(t)='54321' == reverse_string_recursive_tco(t)='54321' == e='54321'\n",
      "reverse_string(t)='nohtyP' == reverse_string_recursive(t)='nohtyP' == reverse_string_recursive_tco(t)='nohtyP' == e='nohtyP'\n",
      "reverse_string(t)='amanaP :lanac a ,nalp a ,nam A' == reverse_string_recursive(t)='amanaP :lanac a ,nalp a ,nam A' == reverse_string_recursive_tco(t)='amanaP :lanac a ,nalp a ,nam A' == e='amanaP :lanac a ,nalp a ,nam A'\n",
      "All reverse string test cases passed!\n"
     ]
    }
   ],
   "source": [
    "def reverse_string(s:str) -> str:\n",
    "    rs = \"\"\n",
    "    for i in range(len(s)):\n",
    "        rs += s[-(i+1)]\n",
    "\n",
    "    return rs\n",
    "\n",
    "def reverse_string_recursive(s:str) -> str:\n",
    "    if len(s) == 0:\n",
    "        return \"\"\n",
    "    \n",
    "    return s[-1] + reverse_string_recursive(s[:-1])\n",
    "\n",
    "def reverse_string_recursive_tco(s:str, rs:str=\"\") -> str:\n",
    "    if len(s) == 0:\n",
    "        return rs\n",
    "    \n",
    "    return reverse_string_recursive_tco(s[:-1], rs+s[-1])\n",
    "\n",
    "# Test cases\n",
    "test_cases = [\n",
    "    (\"abcd\", \"dcba\"),\n",
    "    (\"hello\", \"olleh\"),\n",
    "    (\"\", \"\"),\n",
    "    (\"a\", \"a\"),\n",
    "    (\"racecar\", \"racecar\"),\n",
    "    (\"12345\", \"54321\"),\n",
    "    (\"Python\", \"nohtyP\"),\n",
    "    (\"A man, a plan, a canal: Panama\", \"amanaP :lanac a ,nalp a ,nam A\"),\n",
    "]\n",
    "\n",
    "for t, e in test_cases:\n",
    "    assert reverse_string(t) == reverse_string_recursive(t) == reverse_string_recursive_tco(t) == e\n",
    "    print(f\"{reverse_string(t)=} == {reverse_string_recursive(t)=} == {reverse_string_recursive_tco(t)=} == {e=}\")\n",
    "\n",
    "print(\"All reverse string test cases passed!\")"
   ]
  }
 ],
 "metadata": {
  "kernelspec": {
   "display_name": "mtci-data-alg-py3.12.2",
   "language": "python",
   "name": "python3"
  },
  "language_info": {
   "codemirror_mode": {
    "name": "ipython",
    "version": 3
   },
   "file_extension": ".py",
   "mimetype": "text/x-python",
   "name": "python",
   "nbconvert_exporter": "python",
   "pygments_lexer": "ipython3",
   "version": "3.12.2"
  }
 },
 "nbformat": 4,
 "nbformat_minor": 2
}
