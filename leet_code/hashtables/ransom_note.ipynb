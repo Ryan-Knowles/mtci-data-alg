{
 "cells": [
  {
   "cell_type": "markdown",
   "id": "a5b1ee56",
   "metadata": {},
   "source": [
    "# Ransom Note [easy]\n",
    "\n",
    "Given two strings ransomNote and magazine, return true if ransomNote can be constructed by using the letters from magazine and false otherwise.\n",
    "\n",
    "Each letter in magazine can only be used once in ransomNote.\n",
    "\n",
    "## Example 1:\n",
    "\n",
    "> Input: ransomNote = \"a\", magazine = \"b\"  \n",
    "> Output: false  \n",
    "\n",
    "## Example 2:\n",
    "\n",
    "> Input: ransomNote = \"aa\", magazine = \"ab\"\n",
    "> Output: false\n",
    "\n",
    "## Example 3:\n",
    "\n",
    "> Input: ransomNote = \"aa\", magazine = \"aab\"\n",
    "> Output: true\n",
    "\n",
    "## Constraints:\n",
    "\n",
    "- 1 <= ransomNote.length, magazine.length <= 105\n",
    "- ransomNote and magazine consist of lowercase English letters.\n"
   ]
  },
  {
   "cell_type": "code",
   "execution_count": null,
   "id": "37547a74",
   "metadata": {},
   "outputs": [],
   "source": [
    "class Solution:\n",
    "    def canConstruct(self, ransomNote: str, magazine: str) -> bool:\n",
    "        # Hashtable to count letters in magazine\n",
    "        mag_count = {}\n",
    "\n",
    "        for c in magazine:\n",
    "            if c in mag_count:\n",
    "                mag_count[c] += 1\n",
    "                continue\n",
    "\n",
    "            mag_count[c] = 1\n",
    "\n",
    "        for c in ransomNote:\n",
    "            if c in mag_count and mag_count[c] > 0:\n",
    "                mag_count[c] -= 1\n",
    "                continue\n",
    "\n",
    "            # Fail state\n",
    "            return False\n",
    "\n",
    "        return True"
   ]
  }
 ],
 "metadata": {
  "kernelspec": {
   "display_name": "mtci-data-alg-py3.12.2",
   "language": "python",
   "name": "python3"
  },
  "language_info": {
   "name": "python",
   "version": "3.12.2"
  }
 },
 "nbformat": 4,
 "nbformat_minor": 5
}
