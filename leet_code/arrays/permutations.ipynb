{
 "cells": [
  {
   "cell_type": "markdown",
   "id": "b3480f8d",
   "metadata": {},
   "source": [
    "# Permutations [medium]\n",
    "\n",
    "Source: https://leetcode.com/problems/permutations/description/?envType=problem-list-v2&envId=rab78cw1\n",
    "\n",
    "Given an array nums of distinct integers, return all the possible permutations. You can return the answer in any order.\n",
    "\n",
    "## Example 1:\n",
    "\n",
    "> Input: nums = [1,2,3]  \n",
    "> Output: [[1,2,3],[1,3,2],[2,1,3],[2,3,1],[3,1,2],[3,2,1]]  \n",
    "\n",
    "## Example 2:\n",
    "\n",
    "> Input: nums = [0,1]  \n",
    "> Output: [[0,1],[1,0]]  \n",
    "\n",
    "## Example 3:\n",
    "\n",
    "> Input: nums = [1]  \n",
    "> Output: [[1]]  \n",
    " \n",
    "\n",
    "## Constraints:\n",
    "\n",
    "- 1 <= nums.length <= 6\n",
    "- -10 <= nums[i] <= 10\n",
    "- All the integers of nums are unique."
   ]
  },
  {
   "cell_type": "code",
   "execution_count": 21,
   "id": "25a265bd",
   "metadata": {},
   "outputs": [],
   "source": [
    "from typing import List, Optional\n",
    "\n",
    "# Lets make a n-ary tree, probably a horrible idea because of N! space complexity\n",
    "\n",
    "class Node():\n",
    "    def __init__(self, val:int|None, parent: Optional['None'] = None):\n",
    "        self.val = val\n",
    "        self.parent = parent\n",
    "        self.children = []\n",
    "\n",
    "\n",
    "class NTree():\n",
    "    def __init__(self):\n",
    "        self.root = Node(None)\n",
    "        self.leaves = []\n",
    "\n",
    "    def build_perms(self, node: 'Node', nums: list[int]):\n",
    "        node.children = [Node(n, node) for n in nums]\n",
    "        # Check for ending and add children to leaves list\n",
    "        if len(nums) == 1:\n",
    "            self.leaves.append(node.children[0])\n",
    "            return\n",
    "\n",
    "        for child in node.children:\n",
    "            self.build_perms(child, list(filter(lambda x: x != child.val, nums)))\n",
    "\n",
    "    \n",
    "    def reduce(self) -> list[list[int]]:\n",
    "        perms = []\n",
    "        # For each leaf we will walk back up the tree and build our permutations list\n",
    "        for leaf in self.leaves:\n",
    "            perm = []\n",
    "            node = leaf\n",
    "            while node != self.root:\n",
    "                perm.append(node.val)\n",
    "                node = node.parent\n",
    "\n",
    "            perms.append(perm)\n",
    "        \n",
    "        return perms\n",
    "\n",
    "\n",
    "class Solution:\n",
    "    def permute(self, nums: List[int]) -> List[List[int]]:\n",
    "        # Build a n-ary tree for all permutations of our list\n",
    "        tree = NTree()\n",
    "        tree.build_perms(tree.root, nums)\n",
    "\n",
    "        return tree.reduce()\n",
    "        "
   ]
  },
  {
   "cell_type": "code",
   "execution_count": 25,
   "id": "c9fd8a00",
   "metadata": {},
   "outputs": [
    {
     "name": "stdout",
     "output_type": "stream",
     "text": [
      "Test case 2 (single element) passed!\n",
      "Test case 3 (two elements) passed!\n",
      "sorted(result) = [[1, 2, 3], [1, 3, 2], [2, 1, 3], [2, 3, 1], [3, 1, 2], [3, 2, 1]]\n",
      "sorted(expected) = [[1, 2, 3], [1, 3, 2], [2, 1, 3], [2, 3, 1], [3, 1, 2], [3, 2, 1]]\n",
      "Test case 4 (three elements) passed!\n",
      "Test case 6 (stress test with larger input) passed!\n",
      "All test cases passed!\n"
     ]
    }
   ],
   "source": [
    "# Test cases for the permutation solution\n",
    "from typing import List\n",
    "\n",
    "def test_permutations():\n",
    "    solution = Solution()\n",
    "\n",
    "    \n",
    "    # Test case 2: Single element\n",
    "    assert solution.permute([1]) == [[1]]\n",
    "    print(\"Test case 2 (single element) passed!\")\n",
    "    \n",
    "    # Test case 3: Two elements\n",
    "    result = solution.permute([1, 2])\n",
    "    expected = [[1, 2], [2, 1]]\n",
    "    assert sorted(result) == sorted(expected)\n",
    "    print(\"Test case 3 (two elements) passed!\")\n",
    "    \n",
    "    # Test case 4: Three elements\n",
    "    result = solution.permute([1, 2, 3])\n",
    "    expected = [[1, 2, 3], [1, 3, 2], [2, 1, 3], [2, 3, 1], [3, 1, 2], [3, 2, 1]]\n",
    "    print(f\"{sorted(result) = }\")\n",
    "    print(f\"{sorted(expected) = }\")\n",
    "    assert sorted(result) == sorted(expected)\n",
    "    print(\"Test case 4 (three elements) passed!\")\n",
    "    \n",
    "\n",
    "    # Test case 6: Stress test with larger input\n",
    "    large_input = list(range(6))  # [0, 1, 2, 3, 4, 5]\n",
    "    result = solution.permute(large_input)\n",
    "    # For n=6, we should have 6! = 720 permutations\n",
    "    assert len(result) == 720\n",
    "    # Verify each permutation is unique\n",
    "    assert len(set(tuple(perm) for perm in result)) == 720\n",
    "    # Verify each permutation contains all original elements\n",
    "    for perm in result:\n",
    "        assert sorted(perm) == sorted(large_input)\n",
    "    print(\"Test case 6 (stress test with larger input) passed!\")\n",
    "    \n",
    "    print(\"All test cases passed!\")\n",
    "\n",
    "# Run the tests\n",
    "test_permutations()\n",
    "\n",
    "# arr = list(range(11))\n",
    "# print(f\"{arr = }\")\n",
    "# f = filter(lambda x: x % 2 == 0, arr)\n",
    "# print(f\"{list(f) = }\")\n",
    "\n",
    "# for i in f:\n",
    "#     print(i)\n"
   ]
  },
  {
   "cell_type": "code",
   "execution_count": 32,
   "id": "ef7ede73",
   "metadata": {},
   "outputs": [
    {
     "data": {
      "text/plain": [
       "4"
      ]
     },
     "execution_count": 32,
     "metadata": {},
     "output_type": "execute_result"
    }
   ],
   "source": [
    "import math\n",
    "\n",
    "def bst_height(n: int) -> int:\n",
    "    return math.floor(math.log2(n)) + 1\n",
    "\n",
    "bst_height(10)"
   ]
  }
 ],
 "metadata": {
  "kernelspec": {
   "display_name": "mtci-data-alg-py3.12.2",
   "language": "python",
   "name": "python3"
  },
  "language_info": {
   "codemirror_mode": {
    "name": "ipython",
    "version": 3
   },
   "file_extension": ".py",
   "mimetype": "text/x-python",
   "name": "python",
   "nbconvert_exporter": "python",
   "pygments_lexer": "ipython3",
   "version": "3.12.2"
  }
 },
 "nbformat": 4,
 "nbformat_minor": 5
}
