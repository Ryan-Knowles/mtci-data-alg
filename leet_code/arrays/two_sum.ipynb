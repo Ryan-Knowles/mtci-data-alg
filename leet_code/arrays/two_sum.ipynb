{
 "cells": [
  {
   "cell_type": "markdown",
   "metadata": {},
   "source": [
    "# Two Sum [easy]\n",
    "Given an array of integers nums and an integer target, return indices of the two numbers such that they add up to target.\n",
    "\n",
    "You may assume that each input would have exactly one solution, and you may not use the same element twice.\n",
    "\n",
    "You can return the answer in any order.\n",
    "\n",
    " \n",
    "\n",
    "### Example 1:\n",
    "\n",
    "Input: nums = [2,7,11,15], target = 9\n",
    "Output: [0,1]\n",
    "\n",
    "Explanation: Because nums[0] + nums[1] == 9, we return [0, 1].\n",
    "### Example 2:\n",
    "\n",
    "Input: nums = [3,2,4], target = 6\n",
    "Output: [1,2]\n",
    "\n",
    "### Example 3:\n",
    "\n",
    "Input: nums = [3,3], target = 6\n",
    "Output: [0,1]\n",
    " \n",
    "\n",
    "### Constraints:\n",
    "- 2 <= nums.length <= 10^4\n",
    "- -10^9 <= nums[i] <= 10^9\n",
    "- -10^9 <= target <= 10^9\n",
    "- **Only one valid answer exists.**\n",
    " \n",
    "\n",
    "**Follow-up:** Can you come up with an algorithm that is less than O(n2) time complexity?"
   ]
  },
  {
   "cell_type": "code",
   "execution_count": 10,
   "metadata": {},
   "outputs": [],
   "source": [
    "from typing import List\n",
    "class Solution:\n",
    "    def twoSum(self, nums: List[int], target: int) -> List[int]:\n",
    "        seen = {} # value -> index\n",
    "\n",
    "        # Store the value and its index in a dictionary\n",
    "        # This allows us to check if the complement of the current value exists in constant time\n",
    "        # O(n) time complexity\n",
    "        for i in range(len(nums)):\n",
    "            value = nums[i]\n",
    "            complement = target - value\n",
    "            if complement in seen:\n",
    "                return [seen[complement], i]\n",
    "            seen[value] = i\n",
    "        return []\n"
   ]
  },
  {
   "cell_type": "code",
   "execution_count": 17,
   "metadata": {},
   "outputs": [
    {
     "name": "stdout",
     "output_type": "stream",
     "text": [
      "{0, 1} == {0, 1}: True\n",
      "{1, 2} == {1, 2}: True\n",
      "{0, 1} == {0, 1}: True\n",
      "{2, 4} == {2, 4}: True\n",
      "{4, 5} == {4, 5}: True\n"
     ]
    }
   ],
   "source": [
    "s = Solution()\n",
    "data = [\n",
    "    {\n",
    "    \"input\": [2,7,11,15],\n",
    "    \"target\": 9,\n",
    "    \"output\": [0,1]\n",
    "    },\n",
    "    {\n",
    "        \"input\": [3,2,4],\n",
    "        \"target\": 6,\n",
    "        \"output\": [1,2]\n",
    "    },\n",
    "    {\n",
    "        \"input\": [3,3],\n",
    "        \"target\": 6,\n",
    "        \"output\": [0,1]\n",
    "    },\n",
    "    {\n",
    "        \"input\": [1,2,3,4,5],\n",
    "        \"target\": 8,\n",
    "        \"output\": [2,4]\n",
    "    },\n",
    "    {\n",
    "        \"input\": [1,2,3,4,5,5],\n",
    "        \"target\": 10,\n",
    "        \"output\": [5,4]\n",
    "    },  \n",
    "]\n",
    "\n",
    "for i in data:\n",
    "    r = s.twoSum(i[\"input\"], i[\"target\"])\n",
    "    print(f'{set(r)} == {set(i[\"output\"])}: {set(r) == set(i[\"output\"])}')"
   ]
  }
 ],
 "metadata": {
  "kernelspec": {
   "display_name": "mtci-data-alg-py3.12.2",
   "language": "python",
   "name": "python3"
  },
  "language_info": {
   "codemirror_mode": {
    "name": "ipython",
    "version": 3
   },
   "file_extension": ".py",
   "mimetype": "text/x-python",
   "name": "python",
   "nbconvert_exporter": "python",
   "pygments_lexer": "ipython3",
   "version": "3.12.2"
  }
 },
 "nbformat": 4,
 "nbformat_minor": 2
}
