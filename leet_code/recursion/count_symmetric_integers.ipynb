{
 "cells": [
  {
   "cell_type": "markdown",
   "metadata": {},
   "source": [
    "# Count Symmetric Integers [easy]\n",
    "\n",
    "You are given two positive integers `low` and `high`.\n",
    "\n",
    "An integer `x` consisting of `2 * n` digits is symmetric if the sum of the first `n` digits of `x` is equal to the sum of the last `n` digits of `x`. Numbers with an odd number of digits are never symmetric.\n",
    "\n",
    "Return the number of symmetric integers in the range `[low, high]`.\n",
    "\n",
    "## Example 1:\n",
    "\n",
    "**Input:** low = 1, high = 100\n",
    "\n",
    "**Output:** 9\n",
    "\n",
    "**Explanation:** There are 9 symmetric integers between 1 and 100: 11, 22, 33, 44, 55, 66, 77, 88, and 99.\n",
    "\n",
    "## Example 2:\n",
    "\n",
    "**Input:** low = 1200, high = 1230\n",
    "\n",
    "**Output:** 4\n",
    "\n",
    "**Explanation:** There are 4 symmetric integers between 1200 and 1230: 1203, 1212, 1221, and 1230.\n",
    "\n",
    "## Constraints:\n",
    "\n",
    "- 1 <= low <= high <= 10^4"
   ]
  },
  {
   "cell_type": "code",
   "execution_count": null,
   "metadata": {},
   "outputs": [],
   "source": [
    "# Where is the recursion?\n",
    "\n",
    "class Solution:\n",
    "    def countSymmetricIntegers(self, low: int, high: int) -> int:\n",
    "        # Brute force solution with strings cause i'm dumb\n",
    "        # Generate all numbers between low and high that have equal amount of digits\n",
    "        # Beats 5% on runtme\n",
    "        is_even = lambda x: len(str(x)) % 2 == 0\n",
    "        is_equal = lambda x: sum([int(d) for d in str(x)[:len(str(x))//2]]) == sum([int(d) for d in str(x)[len(str(x))//2:]])\n",
    "        nums = [x for x in range(low, high+1) if is_even(x) and is_equal(x)]\n",
    "        return len(nums)\n",
    "\n",
    "class Solution2:\n",
    "    def countSymmetricIntegers(self, low: int, high: int) -> int:\n",
    "        # Try to do better..\n",
    "        # Two cases:\n",
    "        # - 2 digit numbers... need to be a multiple of 11\n",
    "        # - 4 digit numbers... sum of ab = sum of cd for a digit 'abcd'\n",
    "        # Beats 95% on runtime\n",
    "        two_digit = lambda x: x < 100 and x % 11 == 0\n",
    "        four_digit = lambda x: (1000 < x < 10**4) and (x//1000 + x%1000 // 100) == (x%100 // 10 + x%10)\n",
    "        nums = [x for x in range(low, high+1) if two_digit(x) or four_digit(x)]\n",
    "        return len(nums)"
   ]
  },
  {
   "cell_type": "code",
   "execution_count": 13,
   "metadata": {},
   "outputs": [
    {
     "name": "stdout",
     "output_type": "stream",
     "text": [
      "Range [1, 100] has 9 symmetric integers\n",
      "Range [1200, 1230] has 4 symmetric integers\n",
      "Range [1, 10] has 0 symmetric integers\n",
      "Range [1000, 2000] has 63 symmetric integers\n",
      "Range [100, 200] has 0 symmetric integers\n",
      "Range [9999, 10000] has 1 symmetric integers\n",
      "Range [1, 1] has 0 symmetric integers\n",
      "Range [11, 11] has 1 symmetric integers\n",
      "Range [1111, 1111] has 1 symmetric integers\n"
     ]
    }
   ],
   "source": [
    "test_data = [\n",
    "    (1, 100, 9),  # Example 1: 11,22,33,44,55,66,77,88,99\n",
    "    (1200, 1230, 4),  # Example 2: 1203,1212,1221,1230\n",
    "    (1, 10, 0),  # No symmetric numbers (all single digit)\n",
    "    (1000, 2000, 63),  # Four digit numbers\n",
    "    (100, 200, 0),  # Three digit numbers - none symmetric\n",
    "    (9999, 10000, 1),  # Edge case near constraint boundary\n",
    "    (1, 1, 0),  # Single number, not symmetric\n",
    "    (11, 11, 1),  # Single number that is symmetric\n",
    "    (1111, 1111, 1),  # Single 4-digit symmetric number\n",
    "]\n",
    "\n",
    "solution = Solution2()\n",
    "for low, high, expected in test_data:\n",
    "    result = solution.countSymmetricIntegers(low, high)\n",
    "    assert result == expected, f\"For range [{low}, {high}], expected {expected} but got {result}\"\n",
    "    print(f\"Range [{low}, {high}] has {result} symmetric integers\")\n"
   ]
  }
 ],
 "metadata": {
  "kernelspec": {
   "display_name": "mtci-data-alg-py3.12.2",
   "language": "python",
   "name": "python3"
  },
  "language_info": {
   "codemirror_mode": {
    "name": "ipython",
    "version": 3
   },
   "file_extension": ".py",
   "mimetype": "text/x-python",
   "name": "python",
   "nbconvert_exporter": "python",
   "pygments_lexer": "ipython3",
   "version": "3.12.2"
  }
 },
 "nbformat": 4,
 "nbformat_minor": 2
}
