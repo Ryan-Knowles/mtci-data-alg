{
 "cells": [
  {
   "cell_type": "markdown",
   "metadata": {},
   "source": [
    "# Priority Queue\n",
    "\n",
    "A Priority Queue is a data structure that maintains a collection of elements, each with an associated priority. Elements are dequeued based on their priority rather than their insertion order.\n",
    "\n",
    "## Key characteristics:\n",
    "- Elements have priorities that determine their dequeue order\n",
    "- Higher priority elements are dequeued before lower priority ones\n",
    "- Common implementations use heaps (binary heaps) for O(log n) operations\n",
    "- Supports operations like enqueue (insert) and dequeue (extract-max/min)\n",
    "\n",
    "## Common use cases:\n",
    "- Task scheduling in operating systems\n",
    "- Network routing (packets with different priorities)\n",
    "- Event-driven simulations\n",
    "- Dijkstra's shortest path algorithm\n",
    "\n",
    "## Big O Notation:\n",
    "- Enqueue: O(log n)\n",
    "- Dequeue: O(log n)\n",
    "- Peek: O(1)\n",
    "- Heapify: O(n)\n",
    "\n"
   ]
  }
 ],
 "metadata": {
  "language_info": {
   "name": "python"
  }
 },
 "nbformat": 4,
 "nbformat_minor": 2
}
