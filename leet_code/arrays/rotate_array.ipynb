{
 "cells": [
  {
   "cell_type": "markdown",
   "metadata": {},
   "source": [
    "# Rotate Array [medium]\n",
    "\n",
    "Given an integer array nums, rotate the array to the right by **k** steps, where **k** is non-negative.\n",
    "\n",
    "## Example 1:\n",
    "\n",
    "Input: nums = [1,2,3,4,5,6,7], k = 3\n",
    "Output: [5,6,7,1,2,3,4]\n",
    "Explanation:\n",
    "rotate 1 steps to the right: [7,1,2,3,4,5,6]\n",
    "rotate 2 steps to the right: [6,7,1,2,3,4,5]\n",
    "rotate 3 steps to the right: [5,6,7,1,2,3,4]\n",
    "\n",
    "## Example 2:\n",
    "\n",
    "Input: nums = [-1,-100,3,99], k = 2\n",
    "Output: [3,99,-1,-100]\n",
    "Explanation: \n",
    "rotate 1 steps to the right: [99,-1,-100,3]\n",
    "rotate 2 steps to the right: [3,99,-1,-100]\n",
    " \n",
    "## Constraints:\n",
    "\n",
    "- 1 <= nums.length <= 105\n",
    "- -231 <= nums[i] <= 231 - 1\n",
    "- 0 <= k <= 105\n",
    " \n",
    "\n",
    "**Follow up:** Try to come up with as many solutions as you can. There are at least three different ways to solve this problem.\n",
    "Could you do it in-place with O(1) extra space?"
   ]
  },
  {
   "cell_type": "code",
   "execution_count": 6,
   "metadata": {},
   "outputs": [],
   "source": [
    "from typing import List\n",
    "def rotate_with_extra_space(nums: List[int], k: int) -> None:\n",
    "        \"\"\"\n",
    "        Do not return anything, modify nums in-place instead.\n",
    "        \"\"\"\n",
    "        # O(n) space and O(2n) time complexity\n",
    "        new_array = []\n",
    "        for i in range(len(nums)):\n",
    "            new_array.append(nums[(i - k) % len(nums)])\n",
    "        for i in range(len(nums)):\n",
    "            nums[i] = new_array[i]"
   ]
  },
  {
   "cell_type": "code",
   "execution_count": 5,
   "metadata": {},
   "outputs": [],
   "source": [
    "def rotate_in_place(nums: List[int], k: int) -> None:\n",
    "    # O(1) space? and O(n) time complexity\n",
    "    # Use reverse to rotate the array\n",
    "    k = k % len(nums)\n",
    "    # First reverse the entire array\n",
    "    nums.reverse()\n",
    "\n",
    "    # Then reverse the first k elements\n",
    "    nums[:k] = reversed(nums[:k])\n",
    "\n",
    "    # Then reverse the rest of the array\n",
    "    nums[k:] = reversed(nums[k:])\n"
   ]
  },
  {
   "cell_type": "code",
   "execution_count": 13,
   "metadata": {},
   "outputs": [
    {
     "name": "stdout",
     "output_type": "stream",
     "text": [
      "Testing rotate_with_extra_space\n",
      "Test passed: [5, 6, 7, 1, 2, 3, 4] == [5, 6, 7, 1, 2, 3, 4]\n",
      "Test passed: [3, 99, -1, -100] == [3, 99, -1, -100]\n",
      "Test passed: [7, 8, 9, 10, 1, 2, 3, 4, 5, 6] == [7, 8, 9, 10, 1, 2, 3, 4, 5, 6]\n",
      "Test passed: [1, 2, 3, 4, 5, 6, 7, 8, 9, 10] == [1, 2, 3, 4, 5, 6, 7, 8, 9, 10]\n",
      "Test passed: [10, 1, 2, 3, 4, 5, 6, 7, 8, 9] == [10, 1, 2, 3, 4, 5, 6, 7, 8, 9]\n"
     ]
    }
   ],
   "source": [
    "test_data = [\n",
    "    ([1,2,3,4,5,6,7], 3, [5,6,7,1,2,3,4]),\n",
    "    ([-1,-100,3,99], 2, [3,99,-1,-100]),\n",
    "    ([1,2,3,4,5,6,7,8,9,10], 4, [7,8,9,10,1,2,3,4,5,6]),\n",
    "    ([1,2,3,4,5,6,7,8,9,10], 10, [1,2,3,4,5,6,7,8,9,10]),\n",
    "    ([1,2,3,4,5,6,7,8,9,10], 11, [10,1,2,3,4,5,6,7,8,9]),\n",
    "]\n",
    "# Test the rotate_with_extra_space function\n",
    "print(\"Testing rotate_with_extra_space\")\n",
    "for nums, k, expected in test_data:\n",
    "    rotate_with_extra_space(nums, k)\n",
    "    assert nums == expected\n",
    "    print(f\"Test passed: {nums} == {expected}\")"
   ]
  },
  {
   "cell_type": "code",
   "execution_count": 12,
   "metadata": {},
   "outputs": [
    {
     "name": "stdout",
     "output_type": "stream",
     "text": [
      "Testing rotate_in_place\n",
      "Test passed: [5, 6, 7, 1, 2, 3, 4] == [5, 6, 7, 1, 2, 3, 4]\n",
      "Test passed: [3, 99, -1, -100] == [3, 99, -1, -100]\n",
      "Test passed: [7, 8, 9, 10, 1, 2, 3, 4, 5, 6] == [7, 8, 9, 10, 1, 2, 3, 4, 5, 6]\n",
      "Test passed: [1, 2, 3, 4, 5, 6, 7, 8, 9, 10] == [1, 2, 3, 4, 5, 6, 7, 8, 9, 10]\n",
      "Test passed: [10, 1, 2, 3, 4, 5, 6, 7, 8, 9] == [10, 1, 2, 3, 4, 5, 6, 7, 8, 9]\n"
     ]
    }
   ],
   "source": [
    "test_data = [\n",
    "    ([1,2,3,4,5,6,7], 3, [5,6,7,1,2,3,4]),\n",
    "    ([-1,-100,3,99], 2, [3,99,-1,-100]),\n",
    "    ([1,2,3,4,5,6,7,8,9,10], 4, [7,8,9,10,1,2,3,4,5,6]),\n",
    "    ([1,2,3,4,5,6,7,8,9,10], 10, [1,2,3,4,5,6,7,8,9,10]),\n",
    "    ([1,2,3,4,5,6,7,8,9,10], 11, [10,1,2,3,4,5,6,7,8,9]),\n",
    "]\n",
    "# Test the rotate_in_place function\n",
    "print(\"Testing rotate_in_place\")\n",
    "for nums, k, expected in test_data:\n",
    "    rotate_in_place(nums, k)\n",
    "    assert nums == expected\n",
    "    print(f\"Test passed: {nums} == {expected}\")"
   ]
  }
 ],
 "metadata": {
  "kernelspec": {
   "display_name": "mtci-data-alg-py3.12.2",
   "language": "python",
   "name": "python3"
  },
  "language_info": {
   "codemirror_mode": {
    "name": "ipython",
    "version": 3
   },
   "file_extension": ".py",
   "mimetype": "text/x-python",
   "name": "python",
   "nbconvert_exporter": "python",
   "pygments_lexer": "ipython3",
   "version": "3.12.2"
  }
 },
 "nbformat": 4,
 "nbformat_minor": 2
}
