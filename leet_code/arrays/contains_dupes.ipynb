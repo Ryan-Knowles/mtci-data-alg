{
 "cells": [
  {
   "cell_type": "markdown",
   "metadata": {},
   "source": [
    "# Contains Duplicates [easy]\n",
    "\n",
    "Given an integer array nums, return true if any value appears at least twice in the array, and return false if every element is distinct.\n",
    " \n",
    "## Example 1:\n",
    "\n",
    "Input: nums = [1,2,3,1]\n",
    "\n",
    "Output: true\n",
    "\n",
    "Explanation:\n",
    "\n",
    "The element 1 occurs at the indices 0 and 3.\n",
    "\n",
    "## Example 2:\n",
    "\n",
    "Input: nums = [1,2,3,4]\n",
    "\n",
    "Output: false\n",
    "\n",
    "Explanation:\n",
    "\n",
    "All elements are distinct.\n",
    "\n",
    "## Example 3:\n",
    "\n",
    "Input: nums = [1,1,1,3,3,4,3,2,4,2]\n",
    "\n",
    "Output: true\n",
    "\n",
    "\n",
    "## Constraints:\n",
    "\n",
    "- 1 <= nums.length <= 105\n",
    "- -109 <= nums[i] <= 109"
   ]
  },
  {
   "cell_type": "code",
   "execution_count": 4,
   "metadata": {},
   "outputs": [],
   "source": [
    "from typing import List\n",
    "def containsDuplicate( nums: List[int]) -> bool:\n",
    "    hashmap = {}\n",
    "    for num in nums:\n",
    "        if num in hashmap:\n",
    "            return True\n",
    "        hashmap[num] = True\n",
    "\n",
    "    return False\n"
   ]
  },
  {
   "cell_type": "code",
   "execution_count": 5,
   "metadata": {},
   "outputs": [
    {
     "name": "stdout",
     "output_type": "stream",
     "text": [
      "[1, 2, 3, 1] has duplicates: True\n",
      "[1, 2, 3, 4] has duplicates: False\n",
      "[1, 1, 1, 3, 3, 4, 3, 2, 4, 2] has duplicates: True\n"
     ]
    }
   ],
   "source": [
    "test_data = [\n",
    "    ([1,2,3,1], True),\n",
    "    ([1,2,3,4], False),\n",
    "    ([1,1,1,3,3,4,3,2,4,2], True)\n",
    "]\n",
    "for nums, expected in test_data:\n",
    "    assert containsDuplicate(nums) == expected\n",
    "    print(f\"{nums} has duplicates: {containsDuplicate(nums)}\")\n"
   ]
  }
 ],
 "metadata": {
  "kernelspec": {
   "display_name": "mtci-data-alg-py3.12.2",
   "language": "python",
   "name": "python3"
  },
  "language_info": {
   "codemirror_mode": {
    "name": "ipython",
    "version": 3
   },
   "file_extension": ".py",
   "mimetype": "text/x-python",
   "name": "python",
   "nbconvert_exporter": "python",
   "pygments_lexer": "ipython3",
   "version": "3.12.2"
  }
 },
 "nbformat": 4,
 "nbformat_minor": 2
}
