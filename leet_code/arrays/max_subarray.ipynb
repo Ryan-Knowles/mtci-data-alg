{
 "cells": [
  {
   "cell_type": "markdown",
   "metadata": {},
   "source": [
    "# Maximum Subarray [medium]\n",
    "\n",
    "Given an integer array nums, find the subarray with the largest sum, and return its sum.\n",
    "\n",
    " \n",
    "## Example 1:\n",
    "\n",
    "Input: nums = [-2,1,-3,4,-1,2,1,-5,4]\n",
    "Output: 6\n",
    "Explanation: The subarray [4,-1,2,1] has the largest sum 6.\n",
    "\n",
    "## Example 2:\n",
    "\n",
    "Input: nums = [1]\n",
    "Output: 1\n",
    "Explanation: The subarray [1] has the largest sum 1.\n",
    "\n",
    "## Example 3:\n",
    "\n",
    "Input: nums = [5,4,-1,7,8]\n",
    "Output: 23\n",
    "Explanation: The subarray [5,4,-1,7,8] has the largest sum 23.\n",
    " \n",
    "\n",
    "## Constraints:\n",
    "\n",
    "- 1 <= nums.length <= 105\n",
    "- -104 <= nums[i] <= 104\n",
    " \n",
    "\n",
    "**Follow up:** If you have figured out the O(n) solution, try coding another solution using the divide and conquer approach, which is more subtle."
   ]
  },
  {
   "cell_type": "code",
   "execution_count": 1,
   "metadata": {},
   "outputs": [],
   "source": [
    "from typing import List\n",
    "\n",
    "def find_max_subarray(nums: List[int]) -> int:\n",
    "    # Thought 1: Brute force would be to check all subarrays which is O(n^2) or O(n^3)\n",
    "    # Thought 2: If we turned the array into a balance binary tree and calculated the sum of each node + all its children\n",
    "    #            we could do this in O(n) time? Then just do BFS to find the max sum\n",
    "    max_sum = nums[0]\n",
    "    right_idx = 0\n",
    "    left_idx = len(nums) - 1\n",
    "    return 0"
   ]
  },
  {
   "cell_type": "code",
   "execution_count": 2,
   "metadata": {},
   "outputs": [
    {
     "ename": "AssertionError",
     "evalue": "",
     "output_type": "error",
     "traceback": [
      "\u001b[0;31m---------------------------------------------------------------------------\u001b[0m",
      "\u001b[0;31mAssertionError\u001b[0m                            Traceback (most recent call last)",
      "Cell \u001b[0;32mIn[2], line 12\u001b[0m\n\u001b[1;32m     10\u001b[0m \u001b[38;5;28;01mfor\u001b[39;00m nums, expected \u001b[38;5;129;01min\u001b[39;00m test_data:\n\u001b[1;32m     11\u001b[0m     \u001b[38;5;28mmax\u001b[39m \u001b[38;5;241m=\u001b[39m find_max_subarray(nums)\n\u001b[0;32m---> 12\u001b[0m     \u001b[38;5;28;01massert\u001b[39;00m \u001b[38;5;28mmax\u001b[39m \u001b[38;5;241m==\u001b[39m expected\n\u001b[1;32m     13\u001b[0m     \u001b[38;5;28mprint\u001b[39m(\u001b[38;5;124mf\u001b[39m\u001b[38;5;124m\"\u001b[39m\u001b[38;5;132;01m{\u001b[39;00mnums\u001b[38;5;132;01m}\u001b[39;00m\u001b[38;5;124m == \u001b[39m\u001b[38;5;132;01m{\u001b[39;00mexpected\u001b[38;5;132;01m}\u001b[39;00m\u001b[38;5;124m\"\u001b[39m)\n",
      "\u001b[0;31mAssertionError\u001b[0m: "
     ]
    }
   ],
   "source": [
    "test_data = [\n",
    "    ([-2,1,-3,4,-1,2,1,-5,4], 6),\n",
    "    ([1], 1),\n",
    "    ([5,4,-1,7,8], 23),\n",
    "    ([1,2,3,4,5], 15),\n",
    "    ([1,2,3,4,5,6,7,8,9,10], 55),\n",
    "    ([10,9,8,7,6,5,4,3,2,1], 55),\n",
    "    ([1,1,1,1,1], 5),\n",
    "    ([1,1,1,1,1,1,1,1,1,1], 10),\n",
    "    ([1,1,1,1,1,-1,1,1,1,1,1,1], 6),\n",
    "    ([1,1,1,1,1,1,1,1,-1,1,1,1], 8),\n",
    "]\n",
    "for nums, expected in test_data:\n",
    "    max = find_max_subarray(nums)\n",
    "    assert max == expected\n",
    "    print(f\"{nums} == {expected}\")"
   ]
  }
 ],
 "metadata": {
  "kernelspec": {
   "display_name": "mtci-data-alg-py3.12.2",
   "language": "python",
   "name": "python3"
  },
  "language_info": {
   "codemirror_mode": {
    "name": "ipython",
    "version": 3
   },
   "file_extension": ".py",
   "mimetype": "text/x-python",
   "name": "python",
   "nbconvert_exporter": "python",
   "pygments_lexer": "ipython3",
   "version": "3.12.2"
  }
 },
 "nbformat": 4,
 "nbformat_minor": 2
}
