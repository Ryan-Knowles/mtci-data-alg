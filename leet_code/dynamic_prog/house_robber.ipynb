{
 "cells": [
  {
   "cell_type": "markdown",
   "metadata": {},
   "source": [
    "# House Robber [medium]\n",
    "\n",
    "Source: https://leetcode.com/problems/house-robber/description/\n",
    "\n",
    "You are a professional robber planning to rob houses along a street. Each house has a certain amount of money stashed, the only constraint stopping you from robbing each of them is that adjacent houses have security systems connected and it will automatically contact the police if two adjacent houses were broken into on the same night.\n",
    "\n",
    "Given an integer array nums representing the amount of money of each house, return the maximum amount of money you can rob tonight without alerting the police.\n",
    "\n",
    "## Example 1:\n",
    "\n",
    "Input: nums = [1,2,3,1]\n",
    "\n",
    "Output: 4\n",
    "\n",
    "Explanation: Rob house 1 (money = 1) and then rob house 3 (money = 3).\n",
    "Total amount you can rob = 1 + 3 = 4.\n",
    "\n",
    "## Example 2:\n",
    "\n",
    "Input: nums = [2,7,9,3,1]\n",
    "\n",
    "Output: 12\n",
    "\n",
    "Explanation: Rob house 1 (money = 2), rob house 3 (money = 9) and rob house 5 (money = 1).\n",
    "Total amount you can rob = 2 + 9 + 1 = 12.\n",
    " \n",
    "\n",
    "## Constraints:\n",
    "\n",
    "- 1 <= nums.length <= 100\n",
    "- 0 <= nums[i] <= 400"
   ]
  },
  {
   "cell_type": "code",
   "execution_count": 11,
   "metadata": {},
   "outputs": [],
   "source": [
    "from typing import List\n",
    "\n",
    "class Solution:\n",
    "    def __init__(self):\n",
    "        self.memo = {}\n",
    "        \n",
    "    def rob(self, nums: List[int]) -> int:\n",
    "        # Base case\n",
    "        if len(nums) == 0:\n",
    "            return 0\n",
    "\n",
    "        if len(nums) == 1:\n",
    "            return nums[0]\n",
    "\n",
    "        # Calculate n\n",
    "        n = len(nums) - 1\n",
    "\n",
    "        # Check cache\n",
    "        if n in self.memo:\n",
    "            return self.memo[n]\n",
    "\n",
    "        # Set memo[n]: Intuition, we must rob either n or n-1, so we can recursively calculate the max\n",
    "        # We use memoization to avoid having to recalculate results\n",
    "        self.memo[n] = max(self.rob(nums[:n-1]) + nums[n], self.rob(nums[:n]))\n",
    "\n",
    "        return self.memo[n]\n",
    "        \n"
   ]
  },
  {
   "cell_type": "code",
   "execution_count": 12,
   "metadata": {},
   "outputs": [
    {
     "name": "stdout",
     "output_type": "stream",
     "text": [
      "Test 1: ✓ Got 4, Expected 4\n",
      "Test 2: ✓ Got 12, Expected 12\n",
      "Test 3: ✓ Got 2, Expected 2\n",
      "Test 4: ✓ Got 4, Expected 4\n",
      "Test 5: ✓ Got 0, Expected 0\n",
      "Test 6: ✓ Got 0, Expected 0\n",
      "Test 7: ✓ Got 200, Expected 200\n",
      "Test 8: ✓ Got 4173, Expected 4173\n",
      "All tests passed!\n"
     ]
    }
   ],
   "source": [
    "# Test cases\n",
    "test_cases = [\n",
    "    ([1, 2, 3, 1], 4),\n",
    "    ([2, 7, 9, 3, 1], 12),\n",
    "    ([1, 2], 2),\n",
    "    ([2, 1, 1, 2], 4),\n",
    "    ([], 0),\n",
    "    ([0], 0),\n",
    "    ([200], 200),\n",
    "    ([114, 117, 207, 117, 235, 82, 90, 67, 143, 146, 53, 108, 200, 91, 80, 223, 58, 170, 110, 236, 81, 90, 222, 160, 165, 195, 187, 199, 114, 235, 197, 187, 69, 129, 64, 214, 228, 78, 188, 67, 205, 94, 205, 169, 241, 202, 144, 240], 4173)\n",
    "]\n",
    "\n",
    "all_passed = True\n",
    "for i, (nums, expected) in enumerate(test_cases):\n",
    "    solution = Solution()\n",
    "    result = solution.rob(nums)\n",
    "    status = \"✓\" if result == expected else \"✗\"\n",
    "    if result != expected:\n",
    "        all_passed = False\n",
    "    print(f\"Test {i+1}: {status} Got {result}, Expected {expected}\")\n",
    "\n",
    "if all_passed:\n",
    "    print(\"All tests passed!\")"
   ]
  }
 ],
 "metadata": {
  "kernelspec": {
   "display_name": "mtci-data-alg-py3.12.2",
   "language": "python",
   "name": "python3"
  },
  "language_info": {
   "codemirror_mode": {
    "name": "ipython",
    "version": 3
   },
   "file_extension": ".py",
   "mimetype": "text/x-python",
   "name": "python",
   "nbconvert_exporter": "python",
   "pygments_lexer": "ipython3",
   "version": "3.12.2"
  }
 },
 "nbformat": 4,
 "nbformat_minor": 2
}
