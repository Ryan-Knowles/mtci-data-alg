{
 "cells": [
  {
   "cell_type": "markdown",
   "metadata": {},
   "source": [
    "# Problem 2: Lexicographically Smallest Subsequence of Length K (Medium)\n",
    "\n",
    "### Problem Statement:\n",
    "\n",
    "Given a string s and an integer k, find the lexicographically smallest subsequence of s of length k.\n",
    "\n",
    "### Example 1:\n",
    "\n",
    "```\n",
    "Input: s = \"cbabc\", k = 3\n",
    "Output: \"abc\"\n",
    "```\n",
    "### Example 2:\n",
    "\n",
    "```\n",
    "Input: s = \"leetcode\", k = 4\n",
    "Output: \"ecde\"\n",
    "```\n",
    "\n",
    "### Constraints:\n",
    "- 1 <= s.length <= 10^5\n",
    "- 1 <= k <= s.length\n",
    "- s consists of lowercase English letters."
   ]
  }
 ],
 "metadata": {
  "language_info": {
   "name": "python"
  }
 },
 "nbformat": 4,
 "nbformat_minor": 2
}
