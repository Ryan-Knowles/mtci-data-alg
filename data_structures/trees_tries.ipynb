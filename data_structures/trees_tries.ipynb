{
 "cells": [
  {
   "cell_type": "markdown",
   "metadata": {},
   "source": [
    "# Tries\n",
    "\n",
    "A trie (pronounced \"try\") is a tree-like data structure used primarily for storing and retrieving strings. The name comes from the word \"retrieval\". Key features:\n",
    "\n",
    " - Each node represents a character in a string\n",
    " - Paths from root to nodes form strings/words\n",
    " - Nodes can mark end of complete words\n",
    " - Common prefixes are shared to save space\n",
    " - Efficient for prefix-based operations\n",
    "\n",
    "## Common use cases:\n",
    " - Autocomplete/predictive text\n",
    " - Spell checkers\n",
    " - IP routing tables\n",
    " - Dictionary implementations\n",
    "\n",
    "## Time complexity:\n",
    " - Insert: O(m) where m is key length\n",
    " - Search: O(m) where m is key length\n",
    " - Space: O(ALPHABET_SIZE * m * n) where n is number of keys\n",
    "\n",
    "rjk: Maybe we can use this for storing word id's for assets instead of a hash table? \n",
    "- AI says yes if using a lot of id patterns like \"tree_red_1\", \"tree_red_2\", \"tree_red_3\", etc. and a trie would allow for easier wildcard matching like \"tree_red_*\" to get all the \"tree_red_*\" assets.\n"
   ]
  }
 ],
 "metadata": {
  "language_info": {
   "name": "python"
  }
 },
 "nbformat": 4,
 "nbformat_minor": 2
}
